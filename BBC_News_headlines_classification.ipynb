{
  "nbformat": 4,
  "nbformat_minor": 0,
  "metadata": {
    "colab": {
      "name": "BBC News headlines classification.ipynb",
      "provenance": [],
      "collapsed_sections": [],
      "authorship_tag": "ABX9TyOvwrN7MILc/lDeWtRw8Aab",
      "include_colab_link": true
    },
    "kernelspec": {
      "name": "python3",
      "display_name": "Python 3"
    },
    "language_info": {
      "name": "python"
    },
    "accelerator": "GPU"
  },
  "cells": [
    {
      "cell_type": "markdown",
      "metadata": {
        "id": "view-in-github",
        "colab_type": "text"
      },
      "source": [
        "<a href=\"https://colab.research.google.com/github/Alihassan7726/LSTM-Bi-LSTM/blob/main/BBC_News_headlines_classification.ipynb\" target=\"_parent\"><img src=\"https://colab.research.google.com/assets/colab-badge.svg\" alt=\"Open In Colab\"/></a>"
      ]
    },
    {
      "cell_type": "code",
      "metadata": {
        "id": "fsz1DbGC48-L"
      },
      "source": [
        "import csv\n",
        "import tensorflow as tf\n",
        "import numpy as np\n",
        "from tensorflow.keras.preprocessing.text import Tokenizer\n",
        "from tensorflow.keras.preprocessing.sequence import pad_sequences\n",
        "from tensorflow.keras.models import Sequential\n",
        "from tensorflow.keras.layers import Dense, Flatten, LSTM, Dropout, Activation , GlobalMaxPooling1D , Embedding\n",
        "from tensorflow.keras.callbacks import *\n",
        "import pandas as pd"
      ],
      "execution_count": null,
      "outputs": []
    },
    {
      "cell_type": "code",
      "metadata": {
        "colab": {
          "base_uri": "https://localhost:8080/"
        },
        "id": "uQFb3TCxs7DA",
        "outputId": "cd1a65d5-5404-44c8-d9b0-8d93e6a74f21"
      },
      "source": [
        "nltk.download('stopwords')"
      ],
      "execution_count": null,
      "outputs": [
        {
          "output_type": "stream",
          "text": [
            "[nltk_data] Downloading package stopwords to /root/nltk_data...\n",
            "[nltk_data]   Unzipping corpora/stopwords.zip.\n"
          ],
          "name": "stdout"
        },
        {
          "output_type": "execute_result",
          "data": {
            "text/plain": [
              "True"
            ]
          },
          "metadata": {
            "tags": []
          },
          "execution_count": 5
        }
      ]
    },
    {
      "cell_type": "code",
      "metadata": {
        "colab": {
          "base_uri": "https://localhost:8080/"
        },
        "id": "0IXX5sgUtBJY",
        "outputId": "a1afc475-c0d7-480e-f42a-94ab37dcce29"
      },
      "source": [
        "pip install tqdm"
      ],
      "execution_count": null,
      "outputs": [
        {
          "output_type": "stream",
          "text": [
            "Requirement already satisfied: tqdm in /usr/local/lib/python3.7/dist-packages (4.41.1)\n"
          ],
          "name": "stdout"
        }
      ]
    },
    {
      "cell_type": "code",
      "metadata": {
        "id": "RDsDrBccq56V"
      },
      "source": [
        "pd.set_option('display.width',1000)\n",
        "pd.set_option('max_colwidth', 1000) \n",
        "import tqdm\n",
        "from tqdm import tqdm\n",
        "import nltk\n",
        "from nltk.corpus import stopwords\n",
        "from nltk.tokenize import word_tokenize\n",
        "stpwrds = set(stopwords.words('english'))\n",
        "stpwrds.discard('not')\n",
        "stpwrds.discard('no')\n",
        "import os\n",
        "import re\n",
        "from nltk.stem import WordNetLemmatizer as wnl\n",
        "import sklearn\n"
      ],
      "execution_count": null,
      "outputs": []
    },
    {
      "cell_type": "markdown",
      "metadata": {
        "id": "6gm0ZlayrEZq"
      },
      "source": [
        "### Getting the Data"
      ]
    },
    {
      "cell_type": "code",
      "metadata": {
        "colab": {
          "base_uri": "https://localhost:8080/"
        },
        "id": "ROwX4TGhrHAH",
        "outputId": "f7a09c42-71cf-4978-d79e-fce9b621f693"
      },
      "source": [
        "# Data is fetched and stored in tmp folder with name bbc-text.csv\n",
        "!wget --no-check-certificate \\\n",
        "    https://storage.googleapis.com/dataset-uploader/bbc/bbc-text.csv \\\n",
        "    -O /tmp/bbc-text.csv"
      ],
      "execution_count": null,
      "outputs": [
        {
          "output_type": "stream",
          "text": [
            "--2021-04-27 18:07:47--  https://storage.googleapis.com/dataset-uploader/bbc/bbc-text.csv\n",
            "Resolving storage.googleapis.com (storage.googleapis.com)... 172.217.7.208, 172.217.15.112, 172.217.12.240, ...\n",
            "Connecting to storage.googleapis.com (storage.googleapis.com)|172.217.7.208|:443... connected.\n",
            "HTTP request sent, awaiting response... 200 OK\n",
            "Length: 5057493 (4.8M) [text/csv]\n",
            "Saving to: ‘/tmp/bbc-text.csv’\n",
            "\n",
            "\r/tmp/bbc-text.csv     0%[                    ]       0  --.-KB/s               \r/tmp/bbc-text.csv   100%[===================>]   4.82M  --.-KB/s    in 0.02s   \n",
            "\n",
            "2021-04-27 18:07:47 (215 MB/s) - ‘/tmp/bbc-text.csv’ saved [5057493/5057493]\n",
            "\n"
          ],
          "name": "stdout"
        }
      ]
    },
    {
      "cell_type": "code",
      "metadata": {
        "colab": {
          "base_uri": "https://localhost:8080/",
          "height": 544
        },
        "id": "Hw9qGvM1rZzf",
        "outputId": "55ec0e24-0b86-4fba-fd88-f93f4f0c3340"
      },
      "source": [
        "df = pd.read_csv('/tmp/bbc-text.csv' , delimiter = ',')\n",
        "df.head()"
      ],
      "execution_count": null,
      "outputs": [
        {
          "output_type": "execute_result",
          "data": {
            "text/html": [
              "<div>\n",
              "<style scoped>\n",
              "    .dataframe tbody tr th:only-of-type {\n",
              "        vertical-align: middle;\n",
              "    }\n",
              "\n",
              "    .dataframe tbody tr th {\n",
              "        vertical-align: top;\n",
              "    }\n",
              "\n",
              "    .dataframe thead th {\n",
              "        text-align: right;\n",
              "    }\n",
              "</style>\n",
              "<table border=\"1\" class=\"dataframe\">\n",
              "  <thead>\n",
              "    <tr style=\"text-align: right;\">\n",
              "      <th></th>\n",
              "      <th>category</th>\n",
              "      <th>text</th>\n",
              "    </tr>\n",
              "  </thead>\n",
              "  <tbody>\n",
              "    <tr>\n",
              "      <th>0</th>\n",
              "      <td>tech</td>\n",
              "      <td>tv future in the hands of viewers with home theatre systems  plasma high-definition tvs  and digital video recorders moving into the living room  the way people watch tv will be radically different in five years  time.  that is according to an expert panel which gathered at the annual consumer electronics show in las vegas to discuss how these new technologies will impact one of our favourite pastimes. with the us leading the trend  programmes and other content will be delivered to viewers via home networks  through cable  satellite  telecoms companies  and broadband service providers to front rooms and portable devices.  one of the most talked-about technologies of ces has been digital and personal video recorders (dvr and pvr). these set-top boxes  like the us s tivo and the uk s sky+ system  allow people to record  store  play  pause and forward wind tv programmes when they want.  essentially  the technology allows for much more personalised tv. they are also being built-in to h...</td>\n",
              "    </tr>\n",
              "    <tr>\n",
              "      <th>1</th>\n",
              "      <td>business</td>\n",
              "      <td>worldcom boss  left books alone  former worldcom boss bernie ebbers  who is accused of overseeing an $11bn (£5.8bn) fraud  never made accounting decisions  a witness has told jurors.  david myers made the comments under questioning by defence lawyers who have been arguing that mr ebbers was not responsible for worldcom s problems. the phone company collapsed in 2002 and prosecutors claim that losses were hidden to protect the firm s shares. mr myers has already pleaded guilty to fraud and is assisting prosecutors.  on monday  defence lawyer reid weingarten tried to distance his client from the allegations. during cross examination  he asked mr myers if he ever knew mr ebbers  make an accounting decision  .  not that i am aware of   mr myers replied.  did you ever know mr ebbers to make an accounting entry into worldcom books   mr weingarten pressed.  no   replied the witness. mr myers has admitted that he ordered false accounting entries at the request of former worldcom chief fina...</td>\n",
              "    </tr>\n",
              "    <tr>\n",
              "      <th>2</th>\n",
              "      <td>sport</td>\n",
              "      <td>tigers wary of farrell  gamble  leicester say they will not be rushed into making a bid for andy farrell should the great britain rugby league captain decide to switch codes.   we and anybody else involved in the process are still some way away from going to the next stage   tigers boss john wells told bbc radio leicester.  at the moment  there are still a lot of unknowns about andy farrell  not least his medical situation.  whoever does take him on is going to take a big  big gamble.  farrell  who has had persistent knee problems  had an operation on his knee five weeks ago and is expected to be out for another three months. leicester and saracens are believed to head the list of rugby union clubs interested in signing farrell if he decides to move to the 15-man game.  if he does move across to union  wells believes he would better off playing in the backs  at least initially.  i m sure he could make the step between league and union by being involved in the centre   said wells.  ...</td>\n",
              "    </tr>\n",
              "    <tr>\n",
              "      <th>3</th>\n",
              "      <td>sport</td>\n",
              "      <td>yeading face newcastle in fa cup premiership side newcastle united face a trip to ryman premier league leaders yeading in the fa cup third round.  the game - arguably the highlight of the draw - is a potential money-spinner for non-league yeading  who beat slough in the second round. conference side exeter city  who knocked out doncaster on saturday  will travel to old trafford to meet holders manchester united in january. arsenal were drawn at home to stoke and chelsea will play host to scunthorpe. the only other non-league side in the draw are hinckley united  who held brentford to a goalless draw on sunday. they will meet league one leaders luton if they win their replay against martin allen s team at griffin park.  a number of premiership teams face difficult away games against championship sides on the weekend of 8/9 january. third-placed everton visit plymouth  liverpool travel to burnley  crystal palace go to sunderland  fulham face carling cup semi-finalists watford  bolton...</td>\n",
              "    </tr>\n",
              "    <tr>\n",
              "      <th>4</th>\n",
              "      <td>entertainment</td>\n",
              "      <td>ocean s twelve raids box office ocean s twelve  the crime caper sequel starring george clooney  brad pitt and julia roberts  has gone straight to number one in the us box office chart.  it took $40.8m (£21m) in weekend ticket sales  according to studio estimates. the sequel follows the master criminals as they try to pull off three major heists across europe. it knocked last week s number one  national treasure  into third place. wesley snipes  blade: trinity was in second  taking $16.1m (£8.4m). rounding out the top five was animated fable the polar express  starring tom hanks  and festive comedy christmas with the kranks.  ocean s twelve box office triumph marks the fourth-biggest opening for a december release in the us  after the three films in the lord of the rings trilogy. the sequel narrowly beat its 2001 predecessor  ocean s eleven which took $38.1m (£19.8m) on its opening weekend and $184m (£95.8m) in total. a remake of the 1960s film  starring frank sinatra and the rat pa...</td>\n",
              "    </tr>\n",
              "  </tbody>\n",
              "</table>\n",
              "</div>"
            ],
            "text/plain": [
              "        category                                                                                                                                                                                                                                                                                                                                                                                                                                                                                                                                                                                                                                                                                                                                                                                                                                                                                                                                                                                                                                     text\n",
              "0           tech  tv future in the hands of viewers with home theatre systems  plasma high-definition tvs  and digital video recorders moving into the living room  the way people watch tv will be radically different in five years  time.  that is according to an expert panel which gathered at the annual consumer electronics show in las vegas to discuss how these new technologies will impact one of our favourite pastimes. with the us leading the trend  programmes and other content will be delivered to viewers via home networks  through cable  satellite  telecoms companies  and broadband service providers to front rooms and portable devices.  one of the most talked-about technologies of ces has been digital and personal video recorders (dvr and pvr). these set-top boxes  like the us s tivo and the uk s sky+ system  allow people to record  store  play  pause and forward wind tv programmes when they want.  essentially  the technology allows for much more personalised tv. they are also being built-in to h...\n",
              "1       business  worldcom boss  left books alone  former worldcom boss bernie ebbers  who is accused of overseeing an $11bn (£5.8bn) fraud  never made accounting decisions  a witness has told jurors.  david myers made the comments under questioning by defence lawyers who have been arguing that mr ebbers was not responsible for worldcom s problems. the phone company collapsed in 2002 and prosecutors claim that losses were hidden to protect the firm s shares. mr myers has already pleaded guilty to fraud and is assisting prosecutors.  on monday  defence lawyer reid weingarten tried to distance his client from the allegations. during cross examination  he asked mr myers if he ever knew mr ebbers  make an accounting decision  .  not that i am aware of   mr myers replied.  did you ever know mr ebbers to make an accounting entry into worldcom books   mr weingarten pressed.  no   replied the witness. mr myers has admitted that he ordered false accounting entries at the request of former worldcom chief fina...\n",
              "2          sport  tigers wary of farrell  gamble  leicester say they will not be rushed into making a bid for andy farrell should the great britain rugby league captain decide to switch codes.   we and anybody else involved in the process are still some way away from going to the next stage   tigers boss john wells told bbc radio leicester.  at the moment  there are still a lot of unknowns about andy farrell  not least his medical situation.  whoever does take him on is going to take a big  big gamble.  farrell  who has had persistent knee problems  had an operation on his knee five weeks ago and is expected to be out for another three months. leicester and saracens are believed to head the list of rugby union clubs interested in signing farrell if he decides to move to the 15-man game.  if he does move across to union  wells believes he would better off playing in the backs  at least initially.  i m sure he could make the step between league and union by being involved in the centre   said wells.  ...\n",
              "3          sport  yeading face newcastle in fa cup premiership side newcastle united face a trip to ryman premier league leaders yeading in the fa cup third round.  the game - arguably the highlight of the draw - is a potential money-spinner for non-league yeading  who beat slough in the second round. conference side exeter city  who knocked out doncaster on saturday  will travel to old trafford to meet holders manchester united in january. arsenal were drawn at home to stoke and chelsea will play host to scunthorpe. the only other non-league side in the draw are hinckley united  who held brentford to a goalless draw on sunday. they will meet league one leaders luton if they win their replay against martin allen s team at griffin park.  a number of premiership teams face difficult away games against championship sides on the weekend of 8/9 january. third-placed everton visit plymouth  liverpool travel to burnley  crystal palace go to sunderland  fulham face carling cup semi-finalists watford  bolton...\n",
              "4  entertainment  ocean s twelve raids box office ocean s twelve  the crime caper sequel starring george clooney  brad pitt and julia roberts  has gone straight to number one in the us box office chart.  it took $40.8m (£21m) in weekend ticket sales  according to studio estimates. the sequel follows the master criminals as they try to pull off three major heists across europe. it knocked last week s number one  national treasure  into third place. wesley snipes  blade: trinity was in second  taking $16.1m (£8.4m). rounding out the top five was animated fable the polar express  starring tom hanks  and festive comedy christmas with the kranks.  ocean s twelve box office triumph marks the fourth-biggest opening for a december release in the us  after the three films in the lord of the rings trilogy. the sequel narrowly beat its 2001 predecessor  ocean s eleven which took $38.1m (£19.8m) on its opening weekend and $184m (£95.8m) in total. a remake of the 1960s film  starring frank sinatra and the rat pa..."
            ]
          },
          "metadata": {
            "tags": []
          },
          "execution_count": 12
        }
      ]
    },
    {
      "cell_type": "code",
      "metadata": {
        "colab": {
          "base_uri": "https://localhost:8080/"
        },
        "id": "wSECrj99sCFY",
        "outputId": "a3082529-44a4-4d36-cd63-410fb9026889"
      },
      "source": [
        "df.info()"
      ],
      "execution_count": null,
      "outputs": [
        {
          "output_type": "stream",
          "text": [
            "<class 'pandas.core.frame.DataFrame'>\n",
            "RangeIndex: 2225 entries, 0 to 2224\n",
            "Data columns (total 2 columns):\n",
            " #   Column    Non-Null Count  Dtype \n",
            "---  ------    --------------  ----- \n",
            " 0   category  2225 non-null   object\n",
            " 1   text      2225 non-null   object\n",
            "dtypes: object(2)\n",
            "memory usage: 34.9+ KB\n"
          ],
          "name": "stdout"
        }
      ]
    },
    {
      "cell_type": "code",
      "metadata": {
        "colab": {
          "base_uri": "https://localhost:8080/"
        },
        "id": "JAx_SDj-zLT_",
        "outputId": "60cbba53-8f2a-4fac-fe6b-29728957b654"
      },
      "source": [
        "df['category'].value_counts()"
      ],
      "execution_count": null,
      "outputs": [
        {
          "output_type": "execute_result",
          "data": {
            "text/plain": [
              "sport            511\n",
              "business         510\n",
              "politics         417\n",
              "tech             401\n",
              "entertainment    386\n",
              "Name: category, dtype: int64"
            ]
          },
          "metadata": {
            "tags": []
          },
          "execution_count": 14
        }
      ]
    },
    {
      "cell_type": "code",
      "metadata": {
        "colab": {
          "base_uri": "https://localhost:8080/"
        },
        "id": "JVNIAYLkzgGM",
        "outputId": "a7167903-b923-4b41-e321-7f967139627a"
      },
      "source": [
        "nltk.download('wordnet')"
      ],
      "execution_count": null,
      "outputs": [
        {
          "output_type": "stream",
          "text": [
            "[nltk_data] Downloading package wordnet to /root/nltk_data...\n",
            "[nltk_data]   Unzipping corpora/wordnet.zip.\n"
          ],
          "name": "stdout"
        },
        {
          "output_type": "execute_result",
          "data": {
            "text/plain": [
              "True"
            ]
          },
          "metadata": {
            "tags": []
          },
          "execution_count": 15
        }
      ]
    },
    {
      "cell_type": "code",
      "metadata": {
        "colab": {
          "base_uri": "https://localhost:8080/",
          "height": 969
        },
        "collapsed": true,
        "id": "M1h3ywd4zPNE",
        "outputId": "514fdfee-111c-4e81-e968-2cc0e3fe95c6"
      },
      "source": [
        "def clean_text(text):  \n",
        "    lower = text.lower()\n",
        "    words = re.sub(r\"(@[A-Za-z]+)|([^A-Za-z \\t])|(\\w+:\\/\\/\\S+)|^rt|http.+?\", \"\", lower )  \n",
        "    #pattren = r\"[^\\w\\s\\d]\"\n",
        "    #words = re.sub(pattren, \"\", lower)\n",
        "    words2 = words.split()\n",
        "    #print(words2)\n",
        "    final_words =  [wnl().lemmatize(word , pos = 'v') for word in words2 if word not in stopwords.words('english')]\n",
        "    final_words = ' '.join(final_words)\n",
        "    return(final_words)\n",
        "    \n",
        "df['Cleaned-text'] = df['text'].apply(clean_text)\n",
        "df.head()"
      ],
      "execution_count": null,
      "outputs": [
        {
          "output_type": "execute_result",
          "data": {
            "text/html": [
              "<div>\n",
              "<style scoped>\n",
              "    .dataframe tbody tr th:only-of-type {\n",
              "        vertical-align: middle;\n",
              "    }\n",
              "\n",
              "    .dataframe tbody tr th {\n",
              "        vertical-align: top;\n",
              "    }\n",
              "\n",
              "    .dataframe thead th {\n",
              "        text-align: right;\n",
              "    }\n",
              "</style>\n",
              "<table border=\"1\" class=\"dataframe\">\n",
              "  <thead>\n",
              "    <tr style=\"text-align: right;\">\n",
              "      <th></th>\n",
              "      <th>category</th>\n",
              "      <th>text</th>\n",
              "      <th>Cleaned-text</th>\n",
              "    </tr>\n",
              "  </thead>\n",
              "  <tbody>\n",
              "    <tr>\n",
              "      <th>0</th>\n",
              "      <td>tech</td>\n",
              "      <td>tv future in the hands of viewers with home theatre systems  plasma high-definition tvs  and digital video recorders moving into the living room  the way people watch tv will be radically different in five years  time.  that is according to an expert panel which gathered at the annual consumer electronics show in las vegas to discuss how these new technologies will impact one of our favourite pastimes. with the us leading the trend  programmes and other content will be delivered to viewers via home networks  through cable  satellite  telecoms companies  and broadband service providers to front rooms and portable devices.  one of the most talked-about technologies of ces has been digital and personal video recorders (dvr and pvr). these set-top boxes  like the us s tivo and the uk s sky+ system  allow people to record  store  play  pause and forward wind tv programmes when they want.  essentially  the technology allows for much more personalised tv. they are also being built-in to h...</td>\n",
              "      <td>tv future hand viewers home theatre systems plasma highdefinition tvs digital video recorders move live room way people watch tv radically different five years time accord expert panel gather annual consumer electronics show las vegas discuss new technologies impact one favourite pastimes us lead trend program content deliver viewers via home network cable satellite telecoms company broadband service providers front room portable devices one talkedabout technologies ces digital personal video recorders dvr pvr settop box like us tivo uk sky system allow people record store play pause forward wind tv program want essentially technology allow much personalise tv also builtin highdefinition tv set big business japan us slower take europe lack highdefinition program people forward wind advert also forget abide network channel schedule put together alacarte entertainment us network cable satellite company worry mean term advertise revenues well brand identity viewer loyalty channel alth...</td>\n",
              "    </tr>\n",
              "    <tr>\n",
              "      <th>1</th>\n",
              "      <td>business</td>\n",
              "      <td>worldcom boss  left books alone  former worldcom boss bernie ebbers  who is accused of overseeing an $11bn (£5.8bn) fraud  never made accounting decisions  a witness has told jurors.  david myers made the comments under questioning by defence lawyers who have been arguing that mr ebbers was not responsible for worldcom s problems. the phone company collapsed in 2002 and prosecutors claim that losses were hidden to protect the firm s shares. mr myers has already pleaded guilty to fraud and is assisting prosecutors.  on monday  defence lawyer reid weingarten tried to distance his client from the allegations. during cross examination  he asked mr myers if he ever knew mr ebbers  make an accounting decision  .  not that i am aware of   mr myers replied.  did you ever know mr ebbers to make an accounting entry into worldcom books   mr weingarten pressed.  no   replied the witness. mr myers has admitted that he ordered false accounting entries at the request of former worldcom chief fina...</td>\n",
              "      <td>worldcom boss leave book alone former worldcom boss bernie ebbers accuse oversee bn bn fraud never make account decisions witness tell jurors david myers make comment question defence lawyers argue mr ebbers responsible worldcom problems phone company collapse prosecutors claim losses hide protect firm share mr myers already plead guilty fraud assist prosecutors monday defence lawyer reid weingarten try distance client allegations cross examination ask mr myers ever know mr ebbers make account decision aware mr myers reply ever know mr ebbers make account entry worldcom book mr weingarten press reply witness mr myers admit order false account entries request former worldcom chief financial officer scott sullivan defence lawyers try paint mr sullivan admit fraud testify later trial mastermind behind worldcom account house card mr ebbers team meanwhile look portray affable boss admission pe graduate economist whatever abilities mr ebbers transform worldcom relative unknown bn telecom...</td>\n",
              "    </tr>\n",
              "    <tr>\n",
              "      <th>2</th>\n",
              "      <td>sport</td>\n",
              "      <td>tigers wary of farrell  gamble  leicester say they will not be rushed into making a bid for andy farrell should the great britain rugby league captain decide to switch codes.   we and anybody else involved in the process are still some way away from going to the next stage   tigers boss john wells told bbc radio leicester.  at the moment  there are still a lot of unknowns about andy farrell  not least his medical situation.  whoever does take him on is going to take a big  big gamble.  farrell  who has had persistent knee problems  had an operation on his knee five weeks ago and is expected to be out for another three months. leicester and saracens are believed to head the list of rugby union clubs interested in signing farrell if he decides to move to the 15-man game.  if he does move across to union  wells believes he would better off playing in the backs  at least initially.  i m sure he could make the step between league and union by being involved in the centre   said wells.  ...</td>\n",
              "      <td>tigers wary farrell gamble leicester say rush make bid andy farrell great britain rugby league captain decide switch cod anybody else involve process still way away go next stage tigers boss john well tell bbc radio leicester moment still lot unknowns andy farrell least medical situation whoever take go take big big gamble farrell persistent knee problems operation knee five weeks ago expect another three months leicester saracens believe head list rugby union club interest sign farrell decide move man game move across union well believe would better play back least initially sure could make step league union involve centre say well think england would prefer progress position back row make use rugby league skills within forward jury whether cross divide club balance strike cost gamble option bring readymade replacement</td>\n",
              "    </tr>\n",
              "    <tr>\n",
              "      <th>3</th>\n",
              "      <td>sport</td>\n",
              "      <td>yeading face newcastle in fa cup premiership side newcastle united face a trip to ryman premier league leaders yeading in the fa cup third round.  the game - arguably the highlight of the draw - is a potential money-spinner for non-league yeading  who beat slough in the second round. conference side exeter city  who knocked out doncaster on saturday  will travel to old trafford to meet holders manchester united in january. arsenal were drawn at home to stoke and chelsea will play host to scunthorpe. the only other non-league side in the draw are hinckley united  who held brentford to a goalless draw on sunday. they will meet league one leaders luton if they win their replay against martin allen s team at griffin park.  a number of premiership teams face difficult away games against championship sides on the weekend of 8/9 january. third-placed everton visit plymouth  liverpool travel to burnley  crystal palace go to sunderland  fulham face carling cup semi-finalists watford  bolton...</td>\n",
              "      <td>yeading face newcastle fa cup premiership side newcastle unite face trip ryman premier league leaders yeading fa cup third round game arguably highlight draw potential moneyspinner nonleague yeading beat slough second round conference side exeter city knock doncaster saturday travel old trafford meet holders manchester unite january arsenal draw home stoke chelsea play host scunthorpe nonleague side draw hinckley unite hold brentford goalless draw sunday meet league one leaders luton win replay martin allen team griffin park number premiership team face difficult away game championship side weekend january thirdplaced everton visit plymouth liverpool travel burnley crystal palace go sunderland fulham face carling cup semifinalists watford bolton meet ipswich aston villa draw sheffield unite premiership strugglers norwich blackburn west brom away west ham cardiff preston north end respectively southampton visit northampton already beat league two side carling cup earlier season midd...</td>\n",
              "    </tr>\n",
              "    <tr>\n",
              "      <th>4</th>\n",
              "      <td>entertainment</td>\n",
              "      <td>ocean s twelve raids box office ocean s twelve  the crime caper sequel starring george clooney  brad pitt and julia roberts  has gone straight to number one in the us box office chart.  it took $40.8m (£21m) in weekend ticket sales  according to studio estimates. the sequel follows the master criminals as they try to pull off three major heists across europe. it knocked last week s number one  national treasure  into third place. wesley snipes  blade: trinity was in second  taking $16.1m (£8.4m). rounding out the top five was animated fable the polar express  starring tom hanks  and festive comedy christmas with the kranks.  ocean s twelve box office triumph marks the fourth-biggest opening for a december release in the us  after the three films in the lord of the rings trilogy. the sequel narrowly beat its 2001 predecessor  ocean s eleven which took $38.1m (£19.8m) on its opening weekend and $184m (£95.8m) in total. a remake of the 1960s film  starring frank sinatra and the rat pa...</td>\n",
              "      <td>ocean twelve raid box office ocean twelve crime caper sequel star george clooney brad pitt julia roberts go straight number one us box office chart take weekend ticket sales accord studio estimate sequel follow master criminals try pull three major heist across europe knock last week number one national treasure third place wesley snip blade trinity second take round top five animate fable polar express star tom hanks festive comedy christmas kranks ocean twelve box office triumph mark fourthbiggest open december release us three film lord ring trilogy sequel narrowly beat predecessor ocean eleven take open weekend total remake film star frank sinatra rat pack ocean eleven direct oscarwinning director steven soderbergh soderbergh return direct hit sequel reunite clooney pitt roberts matt damon andy garcia elliott gould catherine zetajones join allstar cast fun good holiday movie say dan fellman president distribution warner bros however us critics less complimentary project los ang...</td>\n",
              "    </tr>\n",
              "  </tbody>\n",
              "</table>\n",
              "</div>"
            ],
            "text/plain": [
              "        category  ...                                                                                                                                                                                                                                                                                                                                                                                                                                                                                                                                                                                                                                                                                                                                                                                                                                                                                                                                                                                                                             Cleaned-text\n",
              "0           tech  ...  tv future hand viewers home theatre systems plasma highdefinition tvs digital video recorders move live room way people watch tv radically different five years time accord expert panel gather annual consumer electronics show las vegas discuss new technologies impact one favourite pastimes us lead trend program content deliver viewers via home network cable satellite telecoms company broadband service providers front room portable devices one talkedabout technologies ces digital personal video recorders dvr pvr settop box like us tivo uk sky system allow people record store play pause forward wind tv program want essentially technology allow much personalise tv also builtin highdefinition tv set big business japan us slower take europe lack highdefinition program people forward wind advert also forget abide network channel schedule put together alacarte entertainment us network cable satellite company worry mean term advertise revenues well brand identity viewer loyalty channel alth...\n",
              "1       business  ...  worldcom boss leave book alone former worldcom boss bernie ebbers accuse oversee bn bn fraud never make account decisions witness tell jurors david myers make comment question defence lawyers argue mr ebbers responsible worldcom problems phone company collapse prosecutors claim losses hide protect firm share mr myers already plead guilty fraud assist prosecutors monday defence lawyer reid weingarten try distance client allegations cross examination ask mr myers ever know mr ebbers make account decision aware mr myers reply ever know mr ebbers make account entry worldcom book mr weingarten press reply witness mr myers admit order false account entries request former worldcom chief financial officer scott sullivan defence lawyers try paint mr sullivan admit fraud testify later trial mastermind behind worldcom account house card mr ebbers team meanwhile look portray affable boss admission pe graduate economist whatever abilities mr ebbers transform worldcom relative unknown bn telecom...\n",
              "2          sport  ...                                                                                                                                                                          tigers wary farrell gamble leicester say rush make bid andy farrell great britain rugby league captain decide switch cod anybody else involve process still way away go next stage tigers boss john well tell bbc radio leicester moment still lot unknowns andy farrell least medical situation whoever take go take big big gamble farrell persistent knee problems operation knee five weeks ago expect another three months leicester saracens believe head list rugby union club interest sign farrell decide move man game move across union well believe would better play back least initially sure could make step league union involve centre say well think england would prefer progress position back row make use rugby league skills within forward jury whether cross divide club balance strike cost gamble option bring readymade replacement\n",
              "3          sport  ...  yeading face newcastle fa cup premiership side newcastle unite face trip ryman premier league leaders yeading fa cup third round game arguably highlight draw potential moneyspinner nonleague yeading beat slough second round conference side exeter city knock doncaster saturday travel old trafford meet holders manchester unite january arsenal draw home stoke chelsea play host scunthorpe nonleague side draw hinckley unite hold brentford goalless draw sunday meet league one leaders luton win replay martin allen team griffin park number premiership team face difficult away game championship side weekend january thirdplaced everton visit plymouth liverpool travel burnley crystal palace go sunderland fulham face carling cup semifinalists watford bolton meet ipswich aston villa draw sheffield unite premiership strugglers norwich blackburn west brom away west ham cardiff preston north end respectively southampton visit northampton already beat league two side carling cup earlier season midd...\n",
              "4  entertainment  ...  ocean twelve raid box office ocean twelve crime caper sequel star george clooney brad pitt julia roberts go straight number one us box office chart take weekend ticket sales accord studio estimate sequel follow master criminals try pull three major heist across europe knock last week number one national treasure third place wesley snip blade trinity second take round top five animate fable polar express star tom hanks festive comedy christmas kranks ocean twelve box office triumph mark fourthbiggest open december release us three film lord ring trilogy sequel narrowly beat predecessor ocean eleven take open weekend total remake film star frank sinatra rat pack ocean eleven direct oscarwinning director steven soderbergh soderbergh return direct hit sequel reunite clooney pitt roberts matt damon andy garcia elliott gould catherine zetajones join allstar cast fun good holiday movie say dan fellman president distribution warner bros however us critics less complimentary project los ang...\n",
              "\n",
              "[5 rows x 3 columns]"
            ]
          },
          "metadata": {
            "tags": []
          },
          "execution_count": 16
        }
      ]
    },
    {
      "cell_type": "code",
      "metadata": {
        "id": "Cmrz_Td9zcOd"
      },
      "source": [
        "X = df['Cleaned-text']\n",
        "y = df['category']\n"
      ],
      "execution_count": null,
      "outputs": []
    },
    {
      "cell_type": "code",
      "metadata": {
        "colab": {
          "base_uri": "https://localhost:8080/"
        },
        "id": "HjP-OU6P0Yd6",
        "outputId": "e420fcf9-c8e4-453a-97fb-8d1495cccbc1"
      },
      "source": [
        "import sklearn\n",
        "from sklearn.model_selection import train_test_split\n",
        "X_train , X_test , y_train , y_test = train_test_split(X,y,test_size = 0.1,random_state = 42,shuffle= True,\n",
        "                                                      stratify = df['category'])\n",
        "print(X_train.shape)\n",
        "print(X_test.shape)\n",
        "print(y_train.shape)\n",
        "print(y_test.shape)\n",
        "print(y_test.value_counts())"
      ],
      "execution_count": null,
      "outputs": [
        {
          "output_type": "stream",
          "text": [
            "(2002,)\n",
            "(223,)\n",
            "(2002,)\n",
            "(223,)\n",
            "business         51\n",
            "sport            51\n",
            "politics         42\n",
            "tech             40\n",
            "entertainment    39\n",
            "Name: category, dtype: int64\n"
          ],
          "name": "stdout"
        }
      ]
    },
    {
      "cell_type": "code",
      "metadata": {
        "colab": {
          "base_uri": "https://localhost:8080/"
        },
        "id": "n3a7Rzsa1z9a",
        "outputId": "d3c57a89-bc5a-4a35-b861-7543a52405e3"
      },
      "source": [
        "nltk.download('punkt')"
      ],
      "execution_count": null,
      "outputs": [
        {
          "output_type": "stream",
          "text": [
            "[nltk_data] Downloading package punkt to /root/nltk_data...\n",
            "[nltk_data]   Package punkt is already up-to-date!\n"
          ],
          "name": "stdout"
        },
        {
          "output_type": "execute_result",
          "data": {
            "text/plain": [
              "True"
            ]
          },
          "metadata": {
            "tags": []
          },
          "execution_count": 50
        }
      ]
    },
    {
      "cell_type": "code",
      "metadata": {
        "id": "g7ms66G20nSH"
      },
      "source": [
        "def create_corpus(df):\n",
        "    corpus=[]\n",
        "    for text in tqdm(df):\n",
        "        words=[word for word in word_tokenize(text)]\n",
        "        corpus.append(words)\n",
        "    return corpus"
      ],
      "execution_count": null,
      "outputs": []
    },
    {
      "cell_type": "code",
      "metadata": {
        "colab": {
          "base_uri": "https://localhost:8080/"
        },
        "collapsed": true,
        "id": "jdZCrL_01oAZ",
        "outputId": "af199af0-f396-4b0b-aa3c-a883e5af1a54"
      },
      "source": [
        "train_corpus = create_corpus(X_train)\n",
        "test_corpus = create_corpus(X_test)\n",
        "test_corpus[:1]"
      ],
      "execution_count": null,
      "outputs": [
        {
          "output_type": "stream",
          "text": [
            "100%|██████████| 2002/2002 [00:01<00:00, 1191.59it/s]\n",
            "100%|██████████| 223/223 [00:00<00:00, 1237.90it/s]\n"
          ],
          "name": "stderr"
        },
        {
          "output_type": "execute_result",
          "data": {
            "text/plain": [
              "[['bridge',\n",
              "  'could',\n",
              "  'miss',\n",
              "  'rest',\n",
              "  'season',\n",
              "  'chelsea',\n",
              "  'leftback',\n",
              "  'wayne',\n",
              "  'bridge',\n",
              "  'could',\n",
              "  'miss',\n",
              "  'rest',\n",
              "  'season',\n",
              "  'suspect',\n",
              "  'break',\n",
              "  'ankle',\n",
              "  'england',\n",
              "  'international',\n",
              "  'hurt',\n",
              "  'innocuous',\n",
              "  'challenge',\n",
              "  'alan',\n",
              "  'shearer',\n",
              "  'londoners',\n",
              "  'fa',\n",
              "  'cup',\n",
              "  'defeat',\n",
              "  'newcastle',\n",
              "  'sunday',\n",
              "  'think',\n",
              "  'big',\n",
              "  'injury',\n",
              "  'say',\n",
              "  'jose',\n",
              "  'mourinho',\n",
              "  'whose',\n",
              "  'chelsea',\n",
              "  'team',\n",
              "  'week',\n",
              "  'meet',\n",
              "  'barcelona',\n",
              "  'champion',\n",
              "  'league',\n",
              "  'liverpool',\n",
              "  'carling',\n",
              "  'cup',\n",
              "  'final',\n",
              "  'william',\n",
              "  'gallas',\n",
              "  'damien',\n",
              "  'duff',\n",
              "  'could',\n",
              "  'also',\n",
              "  'miss',\n",
              "  'barcelona',\n",
              "  'game',\n",
              "  'france',\n",
              "  'defender',\n",
              "  'gallas',\n",
              "  'ireland',\n",
              "  'winger',\n",
              "  'duff',\n",
              "  'pick',\n",
              "  'injuries',\n",
              "  'close',\n",
              "  'stag',\n",
              "  'chelsea',\n",
              "  'defeat',\n",
              "  'st',\n",
              "  'jam',\n",
              "  'park',\n",
              "  'bridge',\n",
              "  'go',\n",
              "  'mourinho',\n",
              "  'use',\n",
              "  'three',\n",
              "  'substitute',\n",
              "  'knock',\n",
              "  'plus',\n",
              "  'carlo',\n",
              "  'cudicini',\n",
              "  'red',\n",
              "  'card',\n",
              "  'mean',\n",
              "  'chelsea',\n",
              "  'finish',\n",
              "  'game',\n",
              "  'seven',\n",
              "  'ablebodied',\n",
              "  'players',\n",
              "  'cudicini',\n",
              "  'would',\n",
              "  'play',\n",
              "  'barcelona',\n",
              "  'promise',\n",
              "  'game',\n",
              "  'carling',\n",
              "  'cup',\n",
              "  'final',\n",
              "  'although',\n",
              "  'miss',\n",
              "  'cardiff',\n",
              "  'showpiece',\n",
              "  'suspension',\n",
              "  'manager',\n",
              "  'plan',\n",
              "  'add',\n",
              "  'new',\n",
              "  'name',\n",
              "  'squad',\n",
              "  'ahead',\n",
              "  'trip',\n",
              "  'barcelona',\n",
              "  'even',\n",
              "  'though',\n",
              "  'options',\n",
              "  'replace',\n",
              "  'bridge',\n",
              "  'leftback',\n",
              "  'celestine',\n",
              "  'babayaro',\n",
              "  'leave',\n",
              "  'club',\n",
              "  'january',\n",
              "  'ironically',\n",
              "  'join',\n",
              "  'newcastle',\n",
              "  'although',\n",
              "  'gallas',\n",
              "  'deputise',\n",
              "  'leftback',\n",
              "  'struggle',\n",
              "  'fit',\n",
              "  'could',\n",
              "  'paulo',\n",
              "  'ferreira',\n",
              "  'usually',\n",
              "  'rightback',\n",
              "  'switch',\n",
              "  'leftback',\n",
              "  'glen',\n",
              "  'johnson',\n",
              "  'end',\n",
              "  'newcastle',\n",
              "  'game',\n",
              "  'goal',\n",
              "  'play',\n",
              "  'right',\n",
              "  'youngsters',\n",
              "  'ben',\n",
              "  'hudell',\n",
              "  'joe',\n",
              "  'keenan',\n",
              "  'sam',\n",
              "  'tillen',\n",
              "  'would',\n",
              "  'options',\n",
              "  'mourinho',\n",
              "  'decide',\n",
              "  'call',\n",
              "  'replacement',\n",
              "  'unlikely',\n",
              "  'would',\n",
              "  'risk',\n",
              "  'untried',\n",
              "  'prospect',\n",
              "  'champion',\n",
              "  'league',\n",
              "  'tie',\n",
              "  'bridge',\n",
              "  'injury',\n",
              "  'also',\n",
              "  'mean',\n",
              "  'mourinho',\n",
              "  'reportedly',\n",
              "  'want',\n",
              "  'sign',\n",
              "  'ashley',\n",
              "  'cole',\n",
              "  'arsenal',\n",
              "  'specialist',\n",
              "  'senior',\n",
              "  'leftback',\n",
              "  'runin',\n",
              "  'season',\n",
              "  'bridge',\n",
              "  'chance',\n",
              "  'play',\n",
              "  'barcelona',\n",
              "  'probably',\n",
              "  'play',\n",
              "  'liverpool',\n",
              "  'carling',\n",
              "  'cup',\n",
              "  'final',\n",
              "  'maybe',\n",
              "  'rest',\n",
              "  'season',\n",
              "  'say',\n",
              "  'medical',\n",
              "  'department',\n",
              "  'try',\n",
              "  'everything',\n",
              "  'recover',\n",
              "  'gallas',\n",
              "  'duff',\n",
              "  'wait',\n",
              "  'see',\n",
              "  'cry',\n",
              "  'injuries',\n",
              "  'players',\n",
              "  'play',\n",
              "  'tuesday',\n",
              "  'shearer',\n",
              "  'say',\n",
              "  'unsure',\n",
              "  'cause',\n",
              "  'bridge',\n",
              "  'injury',\n",
              "  'know',\n",
              "  'happen',\n",
              "  'say',\n",
              "  'shame',\n",
              "  'think',\n",
              "  'even',\n",
              "  'touch',\n",
              "  'account',\n",
              "  'pretty',\n",
              "  'serious',\n",
              "  'go',\n",
              "  'dressingroom',\n",
              "  'game',\n",
              "  'wish',\n",
              "  'best',\n",
              "  'mourinho',\n",
              "  'whose',\n",
              "  'team',\n",
              "  'chase',\n",
              "  'three',\n",
              "  'trophies',\n",
              "  'already',\n",
              "  'lose',\n",
              "  'winger',\n",
              "  'arjen',\n",
              "  'robben',\n",
              "  'serious',\n",
              "  'injury']]"
            ]
          },
          "metadata": {
            "tags": []
          },
          "execution_count": 52
        }
      ]
    },
    {
      "cell_type": "code",
      "metadata": {
        "colab": {
          "base_uri": "https://localhost:8080/"
        },
        "collapsed": true,
        "id": "y2kFe2Dl1uAj",
        "outputId": "e43a370f-910a-4bce-8706-b3a0f61f8115"
      },
      "source": [
        "oov_tok = '<OOV>' #  ‘<OOV>’ that we put if the word is not listed in the dictionary.\n",
        "tokenizer_obj = Tokenizer(num_words = 10000, # max number of words to be taken\n",
        "                         filters =  '!\"#$%&()*+,-./:;<=>?@[\\\\]^_`{|}~\\t0-9',\n",
        "                          oov_token = oov_tok)\n",
        "\n",
        "tokenizer_obj.fit_on_texts(train_corpus) # methods `texts_to_sequences` or `texts_to_matrix`.\n",
        "train_sequences=tokenizer_obj.texts_to_sequences(train_corpus) # Transforms each text in texts to a sequence of integers.\n",
        "test_sequences=tokenizer_obj.texts_to_sequences(test_corpus)\n",
        "\n",
        "test_sequences[:1]"
      ],
      "execution_count": null,
      "outputs": [
        {
          "output_type": "execute_result",
          "data": {
            "text/plain": [
              "[[2072,\n",
              "  18,\n",
              "  366,\n",
              "  914,\n",
              "  316,\n",
              "  437,\n",
              "  1,\n",
              "  3188,\n",
              "  2072,\n",
              "  18,\n",
              "  366,\n",
              "  914,\n",
              "  316,\n",
              "  1034,\n",
              "  221,\n",
              "  2788,\n",
              "  77,\n",
              "  175,\n",
              "  1821,\n",
              "  1,\n",
              "  455,\n",
              "  897,\n",
              "  4890,\n",
              "  8094,\n",
              "  1356,\n",
              "  273,\n",
              "  743,\n",
              "  980,\n",
              "  379,\n",
              "  36,\n",
              "  181,\n",
              "  474,\n",
              "  2,\n",
              "  1565,\n",
              "  1337,\n",
              "  845,\n",
              "  437,\n",
              "  155,\n",
              "  102,\n",
              "  91,\n",
              "  1943,\n",
              "  303,\n",
              "  490,\n",
              "  599,\n",
              "  3206,\n",
              "  273,\n",
              "  236,\n",
              "  1676,\n",
              "  3157,\n",
              "  3339,\n",
              "  3340,\n",
              "  18,\n",
              "  6,\n",
              "  366,\n",
              "  1943,\n",
              "  14,\n",
              "  210,\n",
              "  2200,\n",
              "  3157,\n",
              "  239,\n",
              "  3193,\n",
              "  3340,\n",
              "  617,\n",
              "  2066,\n",
              "  242,\n",
              "  1623,\n",
              "  437,\n",
              "  743,\n",
              "  1414,\n",
              "  831,\n",
              "  877,\n",
              "  2072,\n",
              "  13,\n",
              "  1337,\n",
              "  16,\n",
              "  55,\n",
              "  4311,\n",
              "  1501,\n",
              "  2018,\n",
              "  9402,\n",
              "  5934,\n",
              "  1138,\n",
              "  341,\n",
              "  126,\n",
              "  437,\n",
              "  651,\n",
              "  14,\n",
              "  726,\n",
              "  1,\n",
              "  124,\n",
              "  5934,\n",
              "  4,\n",
              "  22,\n",
              "  1943,\n",
              "  506,\n",
              "  14,\n",
              "  3206,\n",
              "  273,\n",
              "  236,\n",
              "  263,\n",
              "  366,\n",
              "  1478,\n",
              "  1,\n",
              "  2720,\n",
              "  442,\n",
              "  43,\n",
              "  40,\n",
              "  8,\n",
              "  196,\n",
              "  739,\n",
              "  358,\n",
              "  1723,\n",
              "  1943,\n",
              "  104,\n",
              "  528,\n",
              "  1887,\n",
              "  680,\n",
              "  2072,\n",
              "  1,\n",
              "  1,\n",
              "  9325,\n",
              "  148,\n",
              "  160,\n",
              "  270,\n",
              "  7582,\n",
              "  423,\n",
              "  980,\n",
              "  263,\n",
              "  3157,\n",
              "  1,\n",
              "  1,\n",
              "  834,\n",
              "  965,\n",
              "  18,\n",
              "  8816,\n",
              "  7859,\n",
              "  1700,\n",
              "  9974,\n",
              "  1487,\n",
              "  1,\n",
              "  9998,\n",
              "  861,\n",
              "  81,\n",
              "  980,\n",
              "  14,\n",
              "  685,\n",
              "  22,\n",
              "  72,\n",
              "  4189,\n",
              "  2430,\n",
              "  1,\n",
              "  3002,\n",
              "  1,\n",
              "  3095,\n",
              "  1,\n",
              "  4,\n",
              "  1887,\n",
              "  1337,\n",
              "  385,\n",
              "  65,\n",
              "  1536,\n",
              "  1091,\n",
              "  4,\n",
              "  596,\n",
              "  1,\n",
              "  1749,\n",
              "  303,\n",
              "  490,\n",
              "  1241,\n",
              "  2072,\n",
              "  474,\n",
              "  6,\n",
              "  126,\n",
              "  1337,\n",
              "  2091,\n",
              "  35,\n",
              "  269,\n",
              "  3062,\n",
              "  2037,\n",
              "  628,\n",
              "  3020,\n",
              "  656,\n",
              "  1,\n",
              "  1,\n",
              "  316,\n",
              "  2072,\n",
              "  264,\n",
              "  22,\n",
              "  1943,\n",
              "  927,\n",
              "  22,\n",
              "  599,\n",
              "  3206,\n",
              "  273,\n",
              "  236,\n",
              "  1523,\n",
              "  914,\n",
              "  316,\n",
              "  2,\n",
              "  1760,\n",
              "  748,\n",
              "  96,\n",
              "  819,\n",
              "  1169,\n",
              "  3157,\n",
              "  3340,\n",
              "  671,\n",
              "  33,\n",
              "  3201,\n",
              "  2066,\n",
              "  124,\n",
              "  22,\n",
              "  427,\n",
              "  4890,\n",
              "  2,\n",
              "  7008,\n",
              "  582,\n",
              "  2072,\n",
              "  474,\n",
              "  73,\n",
              "  340,\n",
              "  2,\n",
              "  3848,\n",
              "  36,\n",
              "  104,\n",
              "  1094,\n",
              "  359,\n",
              "  1111,\n",
              "  972,\n",
              "  13,\n",
              "  1,\n",
              "  14,\n",
              "  1431,\n",
              "  39,\n",
              "  1337,\n",
              "  845,\n",
              "  155,\n",
              "  1735,\n",
              "  55,\n",
              "  4442,\n",
              "  138,\n",
              "  131,\n",
              "  3193,\n",
              "  6710,\n",
              "  2889,\n",
              "  972,\n",
              "  474]]"
            ]
          },
          "metadata": {
            "tags": []
          },
          "execution_count": 53
        }
      ]
    },
    {
      "cell_type": "code",
      "metadata": {
        "colab": {
          "base_uri": "https://localhost:8080/"
        },
        "id": "W-m2ABwh3oMp",
        "outputId": "62d0d794-d927-48e0-bf43-77c767597e9f"
      },
      "source": [
        "word_index=tokenizer_obj.word_index\n",
        "lenght = len(word_index)+1\n",
        "print('Number of unique words:',lenght)"
      ],
      "execution_count": null,
      "outputs": [
        {
          "output_type": "stream",
          "text": [
            "Number of unique words: 23938\n"
          ],
          "name": "stdout"
        }
      ]
    },
    {
      "cell_type": "code",
      "metadata": {
        "colab": {
          "base_uri": "https://localhost:8080/"
        },
        "id": "4KZgLk0f3ucX",
        "outputId": "0735d9d6-a1bd-4f21-c271-5c3477944844"
      },
      "source": [
        "train_pad=pad_sequences(train_sequences,maxlen=300,truncating='post',padding='pre') # lists to array form\n",
        "test_pad=pad_sequences(test_sequences,maxlen=300,truncating='post',padding='pre')\n",
        "\n",
        "print(len(train_corpus))\n",
        "print(train_pad.shape)\n",
        "train_pad"
      ],
      "execution_count": null,
      "outputs": [
        {
          "output_type": "stream",
          "text": [
            "2002\n",
            "(2002, 300)\n"
          ],
          "name": "stdout"
        },
        {
          "output_type": "execute_result",
          "data": {
            "text/plain": [
              "array([[   0,    0,    0, ..., 6110, 1655,  575],\n",
              "       [   0,    0,    0, ...,  132, 1391,  160],\n",
              "       [   0,    0,    0, ...,   11,    9,  252],\n",
              "       ...,\n",
              "       [   0,    0,    0, ...,  204, 2054,  860],\n",
              "       [   0,    0,    0, ..., 8214, 6529, 7243],\n",
              "       [ 906, 1011, 1137, ...,  492,    6, 1038]], dtype=int32)"
            ]
          },
          "metadata": {
            "tags": []
          },
          "execution_count": 56
        }
      ]
    },
    {
      "cell_type": "code",
      "metadata": {
        "colab": {
          "base_uri": "https://localhost:8080/"
        },
        "id": "YseEENXW4I6T",
        "outputId": "3fc73ec5-be12-4241-ee7a-6ef505c771dc"
      },
      "source": [
        "labels = list(set(y_train))\n",
        "#train_labels = set(y_train.unique())\n",
        "#validation_labels = set(y_test.unique())\n",
        "#validation_labels\n",
        "labels"
      ],
      "execution_count": null,
      "outputs": [
        {
          "output_type": "execute_result",
          "data": {
            "text/plain": [
              "['entertainment', 'tech', 'politics', 'sport', 'business']"
            ]
          },
          "metadata": {
            "tags": []
          },
          "execution_count": 58
        }
      ]
    },
    {
      "cell_type": "code",
      "metadata": {
        "id": "4OwdMttEEMQE"
      },
      "source": [
        "#y_train = pd.get_dummies(y_train)\n",
        "#y_test = pd.get_dummies(y_test)\n",
        "#print(y_train.shape)\n",
        "#arr = np.array(y_train)\n",
        "#print(arr.shape)\n"
      ],
      "execution_count": null,
      "outputs": []
    },
    {
      "cell_type": "code",
      "metadata": {
        "colab": {
          "base_uri": "https://localhost:8080/"
        },
        "collapsed": true,
        "id": "A2Nu0Db34S-k",
        "outputId": "3b2c408f-c191-4c09-ffb8-1156593016e2"
      },
      "source": [
        "tokenizer_obj = Tokenizer()\n",
        "tokenizer_obj.fit_on_texts(labels)\n",
        "training_label_seq = np.array(tokenizer_obj.texts_to_sequences(y_train))\n",
        "validation_label_seq = np.array(tokenizer_obj.texts_to_sequences(y_test))\n",
        "print(len(validation_label_seq))\n",
        "validation_label_seq"
      ],
      "execution_count": null,
      "outputs": [
        {
          "output_type": "stream",
          "text": [
            "223\n"
          ],
          "name": "stdout"
        },
        {
          "output_type": "execute_result",
          "data": {
            "text/plain": [
              "array([[4],\n",
              "       [5],\n",
              "       [3],\n",
              "       [4],\n",
              "       [2],\n",
              "       [1],\n",
              "       [5],\n",
              "       [1],\n",
              "       [5],\n",
              "       [3],\n",
              "       [4],\n",
              "       [3],\n",
              "       [3],\n",
              "       [4],\n",
              "       [4],\n",
              "       [4],\n",
              "       [4],\n",
              "       [3],\n",
              "       [3],\n",
              "       [5],\n",
              "       [1],\n",
              "       [5],\n",
              "       [1],\n",
              "       [2],\n",
              "       [5],\n",
              "       [2],\n",
              "       [2],\n",
              "       [4],\n",
              "       [3],\n",
              "       [3],\n",
              "       [3],\n",
              "       [2],\n",
              "       [5],\n",
              "       [2],\n",
              "       [4],\n",
              "       [5],\n",
              "       [4],\n",
              "       [3],\n",
              "       [1],\n",
              "       [4],\n",
              "       [1],\n",
              "       [5],\n",
              "       [5],\n",
              "       [4],\n",
              "       [3],\n",
              "       [2],\n",
              "       [4],\n",
              "       [3],\n",
              "       [1],\n",
              "       [4],\n",
              "       [4],\n",
              "       [4],\n",
              "       [2],\n",
              "       [2],\n",
              "       [5],\n",
              "       [5],\n",
              "       [5],\n",
              "       [3],\n",
              "       [2],\n",
              "       [2],\n",
              "       [1],\n",
              "       [5],\n",
              "       [3],\n",
              "       [5],\n",
              "       [5],\n",
              "       [5],\n",
              "       [2],\n",
              "       [5],\n",
              "       [4],\n",
              "       [5],\n",
              "       [5],\n",
              "       [3],\n",
              "       [1],\n",
              "       [5],\n",
              "       [1],\n",
              "       [5],\n",
              "       [4],\n",
              "       [1],\n",
              "       [3],\n",
              "       [3],\n",
              "       [3],\n",
              "       [3],\n",
              "       [1],\n",
              "       [1],\n",
              "       [3],\n",
              "       [2],\n",
              "       [1],\n",
              "       [4],\n",
              "       [1],\n",
              "       [5],\n",
              "       [1],\n",
              "       [2],\n",
              "       [4],\n",
              "       [4],\n",
              "       [4],\n",
              "       [1],\n",
              "       [3],\n",
              "       [5],\n",
              "       [4],\n",
              "       [5],\n",
              "       [4],\n",
              "       [3],\n",
              "       [2],\n",
              "       [4],\n",
              "       [3],\n",
              "       [4],\n",
              "       [5],\n",
              "       [2],\n",
              "       [5],\n",
              "       [3],\n",
              "       [4],\n",
              "       [3],\n",
              "       [5],\n",
              "       [1],\n",
              "       [2],\n",
              "       [5],\n",
              "       [2],\n",
              "       [5],\n",
              "       [1],\n",
              "       [4],\n",
              "       [2],\n",
              "       [2],\n",
              "       [5],\n",
              "       [2],\n",
              "       [3],\n",
              "       [5],\n",
              "       [5],\n",
              "       [4],\n",
              "       [1],\n",
              "       [4],\n",
              "       [4],\n",
              "       [4],\n",
              "       [1],\n",
              "       [5],\n",
              "       [1],\n",
              "       [5],\n",
              "       [4],\n",
              "       [4],\n",
              "       [4],\n",
              "       [3],\n",
              "       [1],\n",
              "       [1],\n",
              "       [5],\n",
              "       [5],\n",
              "       [1],\n",
              "       [3],\n",
              "       [2],\n",
              "       [5],\n",
              "       [1],\n",
              "       [4],\n",
              "       [1],\n",
              "       [4],\n",
              "       [4],\n",
              "       [5],\n",
              "       [2],\n",
              "       [5],\n",
              "       [3],\n",
              "       [5],\n",
              "       [1],\n",
              "       [5],\n",
              "       [2],\n",
              "       [2],\n",
              "       [3],\n",
              "       [1],\n",
              "       [1],\n",
              "       [4],\n",
              "       [2],\n",
              "       [5],\n",
              "       [3],\n",
              "       [2],\n",
              "       [4],\n",
              "       [4],\n",
              "       [2],\n",
              "       [4],\n",
              "       [1],\n",
              "       [1],\n",
              "       [3],\n",
              "       [5],\n",
              "       [3],\n",
              "       [3],\n",
              "       [2],\n",
              "       [4],\n",
              "       [2],\n",
              "       [5],\n",
              "       [3],\n",
              "       [3],\n",
              "       [2],\n",
              "       [5],\n",
              "       [1],\n",
              "       [1],\n",
              "       [3],\n",
              "       [5],\n",
              "       [3],\n",
              "       [5],\n",
              "       [4],\n",
              "       [4],\n",
              "       [2],\n",
              "       [3],\n",
              "       [4],\n",
              "       [1],\n",
              "       [5],\n",
              "       [3],\n",
              "       [2],\n",
              "       [2],\n",
              "       [4],\n",
              "       [2],\n",
              "       [1],\n",
              "       [5],\n",
              "       [2],\n",
              "       [1],\n",
              "       [5],\n",
              "       [2],\n",
              "       [2],\n",
              "       [2],\n",
              "       [4],\n",
              "       [4],\n",
              "       [3],\n",
              "       [4],\n",
              "       [1],\n",
              "       [4],\n",
              "       [1],\n",
              "       [2],\n",
              "       [3]])"
            ]
          },
          "metadata": {
            "tags": []
          },
          "execution_count": 60
        }
      ]
    },
    {
      "cell_type": "code",
      "metadata": {
        "colab": {
          "base_uri": "https://localhost:8080/"
        },
        "id": "RrTFCK7gnV5h",
        "outputId": "b5091ee3-79db-4b33-c7ad-b519f231f83a"
      },
      "source": [
        "training_label_seq"
      ],
      "execution_count": null,
      "outputs": [
        {
          "output_type": "execute_result",
          "data": {
            "text/plain": [
              "array([[4],\n",
              "       [4],\n",
              "       [1],\n",
              "       ...,\n",
              "       [2],\n",
              "       [4],\n",
              "       [1]])"
            ]
          },
          "metadata": {
            "tags": []
          },
          "execution_count": 69
        }
      ]
    },
    {
      "cell_type": "code",
      "metadata": {
        "id": "LfxJxvQ7H2zl"
      },
      "source": [
        "#validation_label_seq = np.array(validation_label_seq).reshape(223,)\n",
        "#training_label_seq = np.array(training_label_seq).reshape(len(X_train),)"
      ],
      "execution_count": null,
      "outputs": []
    },
    {
      "cell_type": "code",
      "metadata": {
        "id": "3-uho2DE5WM2",
        "colab": {
          "base_uri": "https://localhost:8080/"
        },
        "outputId": "fa8c1191-7d63-4b0e-c6f7-7e7cbf7f3d4b"
      },
      "source": [
        "tokenizer_obj.word_index"
      ],
      "execution_count": null,
      "outputs": [
        {
          "output_type": "execute_result",
          "data": {
            "text/plain": [
              "{'business': 5, 'entertainment': 1, 'politics': 3, 'sport': 4, 'tech': 2}"
            ]
          },
          "metadata": {
            "tags": []
          },
          "execution_count": 68
        }
      ]
    },
    {
      "cell_type": "code",
      "metadata": {
        "id": "gafW5WaV6Ziy",
        "colab": {
          "base_uri": "https://localhost:8080/"
        },
        "outputId": "687846a0-118f-4192-e1e4-c348f9717db5"
      },
      "source": [
        "model = Sequential()\n",
        "DIM = 300\n",
        "MAX_LEN = 300\n",
        "## Embedding layer\n",
        "model.add(Embedding(lenght , DIM , input_length = MAX_LEN , trainable=True))\n",
        "#model.compile('adam' , 'mse')\n",
        "\n",
        "## LSTM layer\n",
        "model.add(LSTM(DIM,return_sequences=True))\n",
        "\n",
        "#Global Maxpooling\n",
        "model.add(GlobalMaxPooling1D())\n",
        "\n",
        "#Dense Layer\n",
        "model.add(Dense(256,activation='relu')) \n",
        "model.add(Dense(5,activation='softmax')) \n",
        "\n",
        "#Add loss function, metrics, optimizer\n",
        "opt = tf.keras.optimizers.Adam(lr=0.001, decay=1e-6)\n",
        "model.compile(loss='sparse_categorical_crossentropy', optimizer=opt, metrics=['accuracy'])\n",
        "    \n",
        "#Adding callbacks\n",
        "es = EarlyStopping(monitor='val_loss', mode='min', verbose=1,patience=3)  \n",
        "#mc=ModelCheckpoint('best_model.h5', monitor='val_acc', mode='max', save_best_only=True,verbose=1)\n",
        "\n",
        "#Model summary\n",
        "model.summary()"
      ],
      "execution_count": null,
      "outputs": [
        {
          "output_type": "stream",
          "text": [
            "Model: \"sequential_7\"\n",
            "_________________________________________________________________\n",
            "Layer (type)                 Output Shape              Param #   \n",
            "=================================================================\n",
            "embedding_7 (Embedding)      (None, 300, 300)          7181400   \n",
            "_________________________________________________________________\n",
            "lstm_7 (LSTM)                (None, 300, 300)          721200    \n",
            "_________________________________________________________________\n",
            "global_max_pooling1d_4 (Glob (None, 300)               0         \n",
            "_________________________________________________________________\n",
            "dense_11 (Dense)             (None, 256)               77056     \n",
            "_________________________________________________________________\n",
            "dense_12 (Dense)             (None, 5)                 1285      \n",
            "=================================================================\n",
            "Total params: 7,980,941\n",
            "Trainable params: 7,980,941\n",
            "Non-trainable params: 0\n",
            "_________________________________________________________________\n"
          ],
          "name": "stdout"
        }
      ]
    },
    {
      "cell_type": "code",
      "metadata": {
        "colab": {
          "base_uri": "https://localhost:8080/"
        },
        "id": "wCQoJuHJoW6T",
        "outputId": "7542755f-ceb8-4765-ee16-ebb0aa29a2a1"
      },
      "source": [
        "from sklearn.preprocessing import LabelEncoder\n",
        "lb = LabelEncoder()\n",
        "train_encode = lb.fit_transform(y_train)\n",
        "test_encode = lb.fit_transform(y_test)\n",
        "\n",
        "#train_encode = np.array(train_encode).reshape(len(X_train),1)\n",
        "#test_encode = np.array(test_encode).reshape(len(X_test),1)\n",
        "test_encode[:10]"
      ],
      "execution_count": null,
      "outputs": [
        {
          "output_type": "execute_result",
          "data": {
            "text/plain": [
              "array([3, 0, 2, 3, 4, 1, 0, 1, 0, 2])"
            ]
          },
          "metadata": {
            "tags": []
          },
          "execution_count": 95
        }
      ]
    },
    {
      "cell_type": "code",
      "metadata": {
        "colab": {
          "base_uri": "https://localhost:8080/"
        },
        "id": "mQC8tY6Vrbmt",
        "outputId": "ec431326-b536-434f-bcc4-118bc28219f1"
      },
      "source": [
        "lb.inverse_transform(test_encode[:10])"
      ],
      "execution_count": null,
      "outputs": [
        {
          "output_type": "execute_result",
          "data": {
            "text/plain": [
              "array(['sport', 'business', 'politics', 'sport', 'tech', 'entertainment',\n",
              "       'business', 'entertainment', 'business', 'politics'], dtype=object)"
            ]
          },
          "metadata": {
            "tags": []
          },
          "execution_count": 113
        }
      ]
    },
    {
      "cell_type": "code",
      "metadata": {
        "id": "ZhY8uT_YI72Y"
      },
      "source": [
        "#training_label_seq"
      ],
      "execution_count": null,
      "outputs": []
    },
    {
      "cell_type": "code",
      "metadata": {
        "colab": {
          "base_uri": "https://localhost:8080/"
        },
        "id": "NH01JQuC-7jU",
        "outputId": "b8b85763-f812-4900-e4f9-1e9269d4bc68"
      },
      "source": [
        "history = model.fit(train_pad,train_encode,batch_size=25,epochs=10,\n",
        "                    validation_data=(test_pad,test_encode),verbose=1,callbacks=[es],\n",
        "                    )"
      ],
      "execution_count": null,
      "outputs": [
        {
          "output_type": "stream",
          "text": [
            "Epoch 1/10\n",
            "81/81 [==============================] - 10s 113ms/step - loss: 1.4676 - accuracy: 0.3663 - val_loss: 0.3287 - val_accuracy: 0.9103\n",
            "Epoch 2/10\n",
            "81/81 [==============================] - 8s 102ms/step - loss: 0.1597 - accuracy: 0.9662 - val_loss: 0.1022 - val_accuracy: 0.9776\n",
            "Epoch 3/10\n",
            "81/81 [==============================] - 8s 103ms/step - loss: 0.0212 - accuracy: 0.9951 - val_loss: 0.0740 - val_accuracy: 0.9821\n",
            "Epoch 4/10\n",
            "81/81 [==============================] - 9s 106ms/step - loss: 0.0063 - accuracy: 0.9991 - val_loss: 0.0786 - val_accuracy: 0.9731\n",
            "Epoch 5/10\n",
            "81/81 [==============================] - 8s 104ms/step - loss: 0.0012 - accuracy: 0.9997 - val_loss: 0.1032 - val_accuracy: 0.9776\n",
            "Epoch 6/10\n",
            "81/81 [==============================] - 8s 103ms/step - loss: 0.0091 - accuracy: 0.9964 - val_loss: 0.1176 - val_accuracy: 0.9821\n",
            "Epoch 00006: early stopping\n"
          ],
          "name": "stdout"
        }
      ]
    },
    {
      "cell_type": "code",
      "metadata": {
        "colab": {
          "base_uri": "https://localhost:8080/"
        },
        "id": "wo6foN1sjeuO",
        "outputId": "5dfc919f-a856-4418-d4f9-f1fad89187ed"
      },
      "source": [
        "accr = model.evaluate(test_pad,test_encode)\n",
        "print('Test set\\n  Loss: {:0.3f}\\n  Accuracy: {:0.3f}'.format(accr[0],accr[1]))"
      ],
      "execution_count": null,
      "outputs": [
        {
          "output_type": "stream",
          "text": [
            "7/7 [==============================] - 0s 21ms/step - loss: 0.1176 - accuracy: 0.9821\n",
            "Test set\n",
            "  Loss: 0.118\n",
            "  Accuracy: 0.982\n"
          ],
          "name": "stdout"
        }
      ]
    },
    {
      "cell_type": "code",
      "metadata": {
        "colab": {
          "base_uri": "https://localhost:8080/"
        },
        "id": "t2vCdCw5juCe",
        "outputId": "2b54cecb-96ed-433c-868a-91fbab5f2d32"
      },
      "source": [
        "model.predict(test_pad , batch_size = 25)"
      ],
      "execution_count": null,
      "outputs": [
        {
          "output_type": "execute_result",
          "data": {
            "text/plain": [
              "array([[4.1819920e-12, 4.0197660e-06, 7.4723442e-07, 9.9998093e-01,\n",
              "        1.4285516e-05],\n",
              "       [9.9784565e-01, 1.8563581e-03, 2.7195885e-05, 2.3163636e-06,\n",
              "        2.6847544e-04],\n",
              "       [2.6164986e-07, 2.8022190e-04, 9.9796593e-01, 1.1510779e-03,\n",
              "        6.0242205e-04],\n",
              "       ...,\n",
              "       [4.6469238e-02, 9.5050967e-01, 3.5456233e-04, 2.6022946e-04,\n",
              "        2.4062551e-03],\n",
              "       [9.1232666e-09, 5.3579264e-08, 4.9392752e-09, 5.0863562e-08,\n",
              "        9.9999988e-01],\n",
              "       [2.8025213e-06, 3.1941352e-05, 9.9743515e-01, 1.6270067e-04,\n",
              "        2.3674536e-03]], dtype=float32)"
            ]
          },
          "metadata": {
            "tags": []
          },
          "execution_count": 87
        }
      ]
    },
    {
      "cell_type": "code",
      "metadata": {
        "colab": {
          "base_uri": "https://localhost:8080/"
        },
        "id": "kHPKwIudkC5B",
        "outputId": "c96e5004-04ce-464a-81bc-4eee712748e2"
      },
      "source": [
        "txt = [\"blair prepares to name poll date tony blair is likely to name 5 may as election day when parliament returns from its easter break  the bbc s political editor has learned.  andrew marr says mr blair will ask the queen on 4 or 5 april to dissolve parliament at the end of that week. mr blair has so far resisted calls for him to name the day but all parties have stepped up campaigning recently. downing street would not be drawn on the claim  saying election timing was a matter for the prime minister.  a number 10 spokeswoman would only say:  he will announce an election when he wants to announce an election.  the move will signal a frantic week at westminster as the government is likely to try to get key legislation through parliament. the government needs its finance bill  covering the budget plans  to be passed before the commons closes for business at the end of the session on 7 april.  but it will also seek to push through its serious and organised crime bill and id cards bill. mr marr said on wednesday s today programme:  there s almost nobody at a senior level inside the government or in parliament itself who doesn t expect the election to be called on 4 or 5 april.  as soon as the commons is back after the short easter recess  tony blair whips up to the palace  asks the queen to dissolve parliament ... and we re going.  the labour government officially has until june 2006 to hold general election  but in recent years governments have favoured four-year terms.\"]\n",
        "tokenizer_obj.fit_on_texts(train_corpus) # methods `texts_to_sequences` or `texts_to_matrix`.\n",
        "seq = tokenizer_obj.texts_to_sequences(txt)\n",
        "print(seq)\n",
        "padded = pad_sequences(seq, maxlen=300)\n",
        "print(padded.shape)\n",
        "pred = model.predict(padded)\n",
        "print(pred)\n",
        "actual = np.argmax(pred) # index of maximum value\n",
        "print(actual)\n",
        "print(labels)\n"
      ],
      "execution_count": null,
      "outputs": [
        {
          "output_type": "stream",
          "text": [
            "[[93, 195, 632, 530, 430, 93, 247, 195, 65, 86, 166, 582, 9394, 220, 56, 421, 1401, 1106, 4967, 2, 93, 1735, 198, 1489, 822, 9115, 582, 80, 101, 2, 93, 251, 195, 166, 16484, 3853, 548, 784, 3, 623, 10869, 84, 86, 676, 249, 60, 45, 1290, 3, 1, 1735, 243, 86, 243, 86, 79, 1735, 1454, 6304, 101, 1924, 24, 247, 95, 14, 303, 1218, 582, 24, 566, 230, 367, 10869, 730, 179, 80, 1825, 822, 1735, 5, 461, 664, 971, 963, 230, 1097, 230, 2, 4967, 432, 455, 374, 385, 2454, 655, 258, 1282, 24, 582, 68, 86, 10869, 822, 804, 730, 40, 645, 9394, 19363, 430, 93, 3853, 2792, 1489, 9115, 582, 52, 24, 2309, 820, 102, 200, 86, 300, 31, 2215, 16484, 144, 9]]\n",
            "(1, 300)\n",
            "[[1.2797618e-04 1.7614417e-02 6.8676579e-03 1.2305053e-01 8.5233945e-01]]\n",
            "4\n",
            "['entertainment', 'tech', 'politics', 'sport', 'business']\n"
          ],
          "name": "stdout"
        }
      ]
    },
    {
      "cell_type": "code",
      "metadata": {
        "colab": {
          "base_uri": "https://localhost:8080/"
        },
        "id": "mjHRNMlqlrKe",
        "outputId": "7791a701-4d23-4fac-a076-25bf4c869f9b"
      },
      "source": [
        "model.predict_classes(padded)"
      ],
      "execution_count": null,
      "outputs": [
        {
          "output_type": "stream",
          "text": [
            "/usr/local/lib/python3.7/dist-packages/tensorflow/python/keras/engine/sequential.py:450: UserWarning: `model.predict_classes()` is deprecated and will be removed after 2021-01-01. Please use instead:* `np.argmax(model.predict(x), axis=-1)`,   if your model does multi-class classification   (e.g. if it uses a `softmax` last-layer activation).* `(model.predict(x) > 0.5).astype(\"int32\")`,   if your model does binary classification   (e.g. if it uses a `sigmoid` last-layer activation).\n",
            "  warnings.warn('`model.predict_classes()` is deprecated and '\n"
          ],
          "name": "stderr"
        },
        {
          "output_type": "execute_result",
          "data": {
            "text/plain": [
              "array([4])"
            ]
          },
          "metadata": {
            "tags": []
          },
          "execution_count": 97
        }
      ]
    },
    {
      "cell_type": "code",
      "metadata": {
        "colab": {
          "base_uri": "https://localhost:8080/"
        },
        "id": "JiJOue-ZtpJ4",
        "outputId": "2752806c-b233-4a70-b17f-0c369da72113"
      },
      "source": [
        "txt = [\"tigers wary of farrell gamble leicester say they will not be rushed into making a bid for andy farrell should the great britain rugby league captain decide to switch codes. we and anybody else involved in the process are still some way away from going to the next stage tigers boss john wells told bbc radio leicester. at the moment there are still a lot of unknowns about andy farrell not least his medical situation. whoever does take him on is going to take a big big gamble. farrell who has had persistent knee problems had an operation on his knee five weeks ago and is expected to be out for another three months. leicester and saracens are believed to head the list of rugby union clubs interested in signing farrell if he decides to move to the 15-man game. if he does move across to union wells believes he would better off playing in the backs at least initially. i m sure he could make the step between league and union by being involved in the centre said wells.\"]\n",
        "tokenizer_obj.fit_on_texts(train_corpus) # methods `texts_to_sequences` or `texts_to_matrix`.\n",
        "seq = tokenizer_obj.texts_to_sequences(txt)\n",
        "print(seq)\n",
        "padded = pad_sequences(seq, maxlen=300)\n",
        "print(padded.shape)\n",
        "pred = model.predict(padded)\n",
        "print(pred)\n",
        "actual = np.argmax(pred) # index of maximum value\n",
        "print(actual)\n",
        "print(labels)\n"
      ],
      "execution_count": null,
      "outputs": [
        {
          "output_type": "stream",
          "text": [
            "[[3793, 6000, 3128, 2191, 1115, 1, 1735, 623, 10869, 369, 854, 3128, 187, 139, 437, 489, 829, 384, 1486, 2993, 1234, 535, 75, 61, 250, 58, 698, 3793, 526, 359, 56, 221, 1115, 781, 75, 204, 18864, 854, 3128, 623, 472, 1759, 832, 7136, 10, 10, 181, 181, 2191, 3128, 4466, 2056, 399, 1751, 2056, 129, 448, 408, 10869, 3837, 189, 54, 131, 1115, 4093, 343, 225, 437, 486, 3128, 79, 363, 13, 79, 419, 486, 3, 215, 472, 1463, 593, 17, 4, 484, 489, 486, 350]]\n",
            "(1, 300)\n",
            "[[3.1582666e-05 6.3584810e-01 1.1838320e-02 2.1556732e-01 1.3671468e-01]]\n",
            "1\n",
            "['entertainment', 'tech', 'politics', 'sport', 'business']\n"
          ],
          "name": "stdout"
        }
      ]
    },
    {
      "cell_type": "code",
      "metadata": {
        "colab": {
          "base_uri": "https://localhost:8080/"
        },
        "id": "5eTmcRHbuWXk",
        "outputId": "10b95a60-9c57-4563-9a0b-3e6b9b5b9c9d"
      },
      "source": [
        "model.predict_classes(padded)"
      ],
      "execution_count": null,
      "outputs": [
        {
          "output_type": "stream",
          "text": [
            "/usr/local/lib/python3.7/dist-packages/tensorflow/python/keras/engine/sequential.py:450: UserWarning: `model.predict_classes()` is deprecated and will be removed after 2021-01-01. Please use instead:* `np.argmax(model.predict(x), axis=-1)`,   if your model does multi-class classification   (e.g. if it uses a `softmax` last-layer activation).* `(model.predict(x) > 0.5).astype(\"int32\")`,   if your model does binary classification   (e.g. if it uses a `sigmoid` last-layer activation).\n",
            "  warnings.warn('`model.predict_classes()` is deprecated and '\n"
          ],
          "name": "stderr"
        },
        {
          "output_type": "execute_result",
          "data": {
            "text/plain": [
              "array([1])"
            ]
          },
          "metadata": {
            "tags": []
          },
          "execution_count": 112
        }
      ]
    },
    {
      "cell_type": "code",
      "metadata": {
        "colab": {
          "base_uri": "https://localhost:8080/"
        },
        "id": "JEUQ3Q0F_13j",
        "outputId": "a9c97f65-7dfd-46d5-9851-241d01c94a35"
      },
      "source": [
        "expected = y_test\n",
        "y_pred = model.predict_classes(np.array(test_pad))\n",
        "print(y_pred.shape)\n",
        "y_pred"
      ],
      "execution_count": null,
      "outputs": [
        {
          "output_type": "stream",
          "text": [
            "(223,)\n"
          ],
          "name": "stdout"
        },
        {
          "output_type": "stream",
          "text": [
            "/usr/local/lib/python3.7/dist-packages/tensorflow/python/keras/engine/sequential.py:450: UserWarning: `model.predict_classes()` is deprecated and will be removed after 2021-01-01. Please use instead:* `np.argmax(model.predict(x), axis=-1)`,   if your model does multi-class classification   (e.g. if it uses a `softmax` last-layer activation).* `(model.predict(x) > 0.5).astype(\"int32\")`,   if your model does binary classification   (e.g. if it uses a `sigmoid` last-layer activation).\n",
            "  warnings.warn('`model.predict_classes()` is deprecated and '\n"
          ],
          "name": "stderr"
        },
        {
          "output_type": "execute_result",
          "data": {
            "text/plain": [
              "array([3, 0, 2, 3, 4, 1, 0, 1, 0, 2, 3, 2, 2, 3, 3, 3, 3, 2, 2, 0, 1, 0,\n",
              "       1, 4, 0, 4, 4, 3, 2, 2, 2, 4, 0, 4, 3, 0, 3, 2, 1, 3, 1, 4, 0, 3,\n",
              "       2, 4, 3, 2, 1, 3, 3, 3, 4, 4, 0, 0, 0, 2, 4, 4, 1, 0, 2, 0, 3, 0,\n",
              "       4, 0, 3, 0, 0, 2, 1, 0, 1, 0, 3, 1, 2, 2, 2, 2, 1, 1, 2, 4, 1, 3,\n",
              "       1, 0, 1, 4, 3, 3, 3, 1, 2, 2, 3, 0, 3, 2, 4, 3, 2, 3, 0, 4, 0, 2,\n",
              "       3, 2, 0, 1, 4, 0, 4, 0, 1, 3, 4, 4, 0, 4, 2, 0, 0, 3, 1, 3, 3, 3,\n",
              "       1, 0, 1, 0, 3, 3, 3, 2, 1, 1, 0, 0, 1, 2, 4, 0, 1, 3, 1, 3, 3, 0,\n",
              "       4, 0, 2, 0, 1, 0, 4, 4, 4, 1, 1, 3, 4, 0, 2, 4, 3, 3, 4, 3, 1, 1,\n",
              "       2, 0, 2, 2, 4, 3, 4, 0, 2, 2, 4, 0, 1, 1, 2, 0, 2, 0, 3, 3, 4, 2,\n",
              "       3, 1, 0, 2, 4, 4, 3, 4, 1, 0, 4, 1, 0, 4, 4, 4, 3, 3, 2, 3, 1, 3,\n",
              "       1, 4, 2])"
            ]
          },
          "metadata": {
            "tags": []
          },
          "execution_count": 98
        }
      ]
    },
    {
      "cell_type": "code",
      "metadata": {
        "colab": {
          "base_uri": "https://localhost:8080/"
        },
        "id": "SO_Ai0IJGAjP",
        "outputId": "ab829465-d4dd-45e4-fa37-5a59db2249ef"
      },
      "source": [
        "from sklearn.metrics import accuracy_score\n",
        "acc = accuracy_score(y_pred , test_encode)\n",
        "acc"
      ],
      "execution_count": null,
      "outputs": [
        {
          "output_type": "execute_result",
          "data": {
            "text/plain": [
              "0.9820627802690582"
            ]
          },
          "metadata": {
            "tags": []
          },
          "execution_count": 99
        }
      ]
    },
    {
      "cell_type": "code",
      "metadata": {
        "id": "Ug_WkexMGzOJ",
        "colab": {
          "base_uri": "https://localhost:8080/"
        },
        "outputId": "a671f8a1-7047-4f10-c102-ef7c3571b694"
      },
      "source": [
        "from sklearn import metrics\n",
        "print(metrics.confusion_matrix(test_encode, y_pred))"
      ],
      "execution_count": null,
      "outputs": [
        {
          "output_type": "stream",
          "text": [
            "[[48  0  1  1  1]\n",
            " [ 0 39  0  0  0]\n",
            " [ 0  0 41  0  1]\n",
            " [ 0  0  0 51  0]\n",
            " [ 0  0  0  0 40]]\n"
          ],
          "name": "stdout"
        }
      ]
    },
    {
      "cell_type": "code",
      "metadata": {
        "colab": {
          "base_uri": "https://localhost:8080/"
        },
        "id": "oawyIjngssa0",
        "outputId": "dd81e2a9-56b6-4e6c-fad5-310dfcb1ce8d"
      },
      "source": [
        "np.unique(test_encode, return_counts=True)"
      ],
      "execution_count": null,
      "outputs": [
        {
          "output_type": "execute_result",
          "data": {
            "text/plain": [
              "(array([0, 1, 2, 3, 4]), array([51, 39, 42, 51, 40]))"
            ]
          },
          "metadata": {
            "tags": []
          },
          "execution_count": 108
        }
      ]
    },
    {
      "cell_type": "code",
      "metadata": {
        "id": "AOBvuBbps0co"
      },
      "source": [
        ""
      ],
      "execution_count": null,
      "outputs": []
    }
  ]
}