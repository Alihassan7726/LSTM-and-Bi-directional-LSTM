{
  "nbformat": 4,
  "nbformat_minor": 0,
  "metadata": {
    "accelerator": "GPU",
    "colab": {
      "name": "Fake news calssification using Bi-LSTM.ipynb",
      "provenance": [],
      "collapsed_sections": [],
      "authorship_tag": "ABX9TyOws1ojQBZY27S9RlwEab4L",
      "include_colab_link": true
    },
    "kernelspec": {
      "display_name": "Python 3",
      "name": "python3"
    },
    "language_info": {
      "name": "python"
    }
  },
  "cells": [
    {
      "cell_type": "markdown",
      "metadata": {
        "id": "view-in-github",
        "colab_type": "text"
      },
      "source": [
        "<a href=\"https://colab.research.google.com/github/Alihassan7726/LSTM-Bi-LSTM/blob/main/Fake_news_calssification_using_Bi_LSTM.ipynb\" target=\"_parent\"><img src=\"https://colab.research.google.com/assets/colab-badge.svg\" alt=\"Open In Colab\"/></a>"
      ]
    },
    {
      "cell_type": "code",
      "metadata": {
        "colab": {
          "base_uri": "https://localhost:8080/"
        },
        "id": "pL1xY1VvtiWu",
        "outputId": "acfa194c-d9d5-43a7-b8c1-c8d572fd1674"
      },
      "source": [
        "from google.colab import drive\n",
        "drive.mount('gdrive')"
      ],
      "execution_count": 2,
      "outputs": [
        {
          "output_type": "stream",
          "text": [
            "Mounted at gdrive\n"
          ],
          "name": "stdout"
        }
      ]
    },
    {
      "cell_type": "code",
      "metadata": {
        "colab": {
          "base_uri": "https://localhost:8080/",
          "height": 680
        },
        "id": "PHsogeUEt71J",
        "outputId": "105f2aa5-2ae7-4c0d-f883-833b0531ecaa"
      },
      "source": [
        "import io\n",
        "import pandas as pd\n",
        "pd.set_option('max_colwidth', 1000)\n",
        "\n",
        "myfile = open('/content/gdrive/MyDrive/Colab DataSets/fake_news_train.csv')\n",
        "myfile\n",
        "df_train = pd.read_csv(myfile , encoding = 'ISO-8859-1')\n",
        "# Dataset is now stored in a Pandas Dataframe\n",
        "df_train.head()"
      ],
      "execution_count": 3,
      "outputs": [
        {
          "output_type": "execute_result",
          "data": {
            "text/html": [
              "<div>\n",
              "<style scoped>\n",
              "    .dataframe tbody tr th:only-of-type {\n",
              "        vertical-align: middle;\n",
              "    }\n",
              "\n",
              "    .dataframe tbody tr th {\n",
              "        vertical-align: top;\n",
              "    }\n",
              "\n",
              "    .dataframe thead th {\n",
              "        text-align: right;\n",
              "    }\n",
              "</style>\n",
              "<table border=\"1\" class=\"dataframe\">\n",
              "  <thead>\n",
              "    <tr style=\"text-align: right;\">\n",
              "      <th></th>\n",
              "      <th>id</th>\n",
              "      <th>title</th>\n",
              "      <th>author</th>\n",
              "      <th>text</th>\n",
              "      <th>label</th>\n",
              "    </tr>\n",
              "  </thead>\n",
              "  <tbody>\n",
              "    <tr>\n",
              "      <th>0</th>\n",
              "      <td>0</td>\n",
              "      <td>House Dem Aide: We Didn’t Even See Comey’s Letter Until Jason Chaffetz Tweeted It</td>\n",
              "      <td>Darrell Lucus</td>\n",
              "      <td>House Dem Aide: We Didn’t Even See Comey’s Letter Until Jason Chaffetz Tweeted It By Darrell Lucus on October 30, 2016 Subscribe Jason Chaffetz on the stump in American Fork, Utah ( image courtesy Michael Jolley, available under a Creative Commons-BY license) \\nWith apologies to Keith Olbermann, there is no doubt who the Worst Person in The World is this week–FBI Director James Comey. But according to a House Democratic aide, it looks like we also know who the second-worst person is as well. It turns out that when Comey sent his now-infamous letter announcing that the FBI was looking into emails that may be related to Hillary Clinton’s email server, the ranking Democrats on the relevant committees didn’t hear about it from Comey. They found out via a tweet from one of the Republican committee chairmen. \\nAs we now know, Comey notified the Republican chairmen and Democratic ranking members of the House Intelligence, Judiciary, and Oversight committees that his agency was reviewing e...</td>\n",
              "      <td>1</td>\n",
              "    </tr>\n",
              "    <tr>\n",
              "      <th>1</th>\n",
              "      <td>1</td>\n",
              "      <td>FLYNN: Hillary Clinton, Big Woman on Campus - Breitbart</td>\n",
              "      <td>Daniel J. Flynn</td>\n",
              "      <td>Ever get the feeling your life circles the roundabout rather than heads in a straight line toward the intended destination? [Hillary Clinton remains the big woman on campus in leafy, liberal Wellesley, Massachusetts. Everywhere else votes her most likely to don her inauguration dress for the remainder of her days the way Miss Havisham forever wore that wedding dress.  Speaking of Great Expectations, Hillary Rodham overflowed with them 48 years ago when she first addressed a Wellesley graduating class. The president of the college informed those gathered in 1969 that the students needed “no debate so far as I could ascertain as to who their spokesman was to be” (kind of the like the Democratic primaries in 2016 minus the   terms unknown then even at a Seven Sisters school). “I am very glad that Miss Adams made it clear that what I am speaking for today is all of us —  the 400 of us,” Miss Rodham told her classmates. After appointing herself Edger Bergen to the Charlie McCarthys and ...</td>\n",
              "      <td>0</td>\n",
              "    </tr>\n",
              "    <tr>\n",
              "      <th>2</th>\n",
              "      <td>2</td>\n",
              "      <td>Why the Truth Might Get You Fired</td>\n",
              "      <td>Consortiumnews.com</td>\n",
              "      <td>Why the Truth Might Get You Fired October 29, 2016 \\nThe tension between intelligence analysts and political policymakers has always been between honest assessments and desired results, with the latter often overwhelming the former, as in the Iraq War, writes Lawrence Davidson. \\nBy Lawrence Davidson \\nFor those who might wonder why foreign policy makers repeatedly make bad choices, some insight might be drawn from the following analysis. The action here plays out in the United States, but the lessons are probably universal. \\nBack in the early spring of 2003, George W. Bush initiated the invasion of Iraq. One of his key public reasons for doing so was the claim that the country’s dictator, Saddam Hussein, was on the verge of developing nuclear weapons and was hiding other weapons of mass destruction. The real reason went beyond that charge and included a long-range plan for “regime change” in the Middle East. President George W. Bush and Vice President Dick Cheney receive an Oval ...</td>\n",
              "      <td>1</td>\n",
              "    </tr>\n",
              "    <tr>\n",
              "      <th>3</th>\n",
              "      <td>3</td>\n",
              "      <td>15 Civilians Killed In Single US Airstrike Have Been Identified</td>\n",
              "      <td>Jessica Purkiss</td>\n",
              "      <td>Videos 15 Civilians Killed In Single US Airstrike Have Been Identified The rate at which civilians are being killed by American airstrikes in Afghanistan is now higher than it was in 2014 when the US was engaged in active combat operations.   Photo of Hellfire missiles being loaded onto a US military Reaper drone in Afghanistan by Staff Sgt. Brian Ferguson/U.S. Air Force. \\nThe Bureau has been able to identify 15 civilians killed in a single US drone strike in Afghanistan last month – the biggest loss of civilian life in one strike since the attack on the Medecins Sans Frontieres hospital (MSF) last October. \\nThe US claimed it had conducted a “counter-terrorism” strike against Islamic State (IS) fighters when it hit Nangarhar province with missiles on September 28. But the next day the United Nations issued an unusually rapid and strong statement saying the strike had killed 15 civilians and injured 13 others who had gathered at a house to celebrate a tribal elder’s return from a ...</td>\n",
              "      <td>1</td>\n",
              "    </tr>\n",
              "    <tr>\n",
              "      <th>4</th>\n",
              "      <td>4</td>\n",
              "      <td>Iranian woman jailed for fictional unpublished story about woman stoned to death for adultery</td>\n",
              "      <td>Howard Portnoy</td>\n",
              "      <td>Print \\nAn Iranian woman has been sentenced to six years in prison after Iran’s Revolutionary Guard searched her home and found a notebook that contained a fictional story she’d written about a woman who was stoned to death, according to the Eurasia Review . \\nGolrokh Ebrahimi Iraee, 35, is the wife of political prisoner Arash Sadeghi, 36, who is serving a 19-year prison sentence for being a human rights activist, the publication reported. \\n“When the intelligence unit of the Revolutionary Guards came to arrest her husband, they raided their apartment – without a warrant – and found drafts of stories that Ebrahimi Iraee had written,” the article stated. \\n“One of the confiscated drafts was a story about stoning women to death for adultery – never published, never presented to anyone,” the article stated. “The narrative followed the story of a protagonist that watched a movie about stoning of women under Islamic law for adultery.</td>\n",
              "      <td>1</td>\n",
              "    </tr>\n",
              "  </tbody>\n",
              "</table>\n",
              "</div>"
            ],
            "text/plain": [
              "   id  ... label\n",
              "0   0  ...     1\n",
              "1   1  ...     0\n",
              "2   2  ...     1\n",
              "3   3  ...     1\n",
              "4   4  ...     1\n",
              "\n",
              "[5 rows x 5 columns]"
            ]
          },
          "metadata": {
            "tags": []
          },
          "execution_count": 3
        }
      ]
    },
    {
      "cell_type": "code",
      "metadata": {
        "colab": {
          "base_uri": "https://localhost:8080/"
        },
        "id": "ghoF36nGV6lF",
        "outputId": "e30ccf7a-ecda-40b3-c394-e114a42ba615"
      },
      "source": [
        "df_train.info()"
      ],
      "execution_count": 4,
      "outputs": [
        {
          "output_type": "stream",
          "text": [
            "<class 'pandas.core.frame.DataFrame'>\n",
            "RangeIndex: 20800 entries, 0 to 20799\n",
            "Data columns (total 5 columns):\n",
            " #   Column  Non-Null Count  Dtype \n",
            "---  ------  --------------  ----- \n",
            " 0   id      20800 non-null  int64 \n",
            " 1   title   20242 non-null  object\n",
            " 2   author  18843 non-null  object\n",
            " 3   text    20761 non-null  object\n",
            " 4   label   20800 non-null  int64 \n",
            "dtypes: int64(2), object(3)\n",
            "memory usage: 812.6+ KB\n"
          ],
          "name": "stdout"
        }
      ]
    },
    {
      "cell_type": "code",
      "metadata": {
        "colab": {
          "base_uri": "https://localhost:8080/"
        },
        "id": "pWsk2OH3WzuQ",
        "outputId": "3cae067c-c8e7-4162-800d-dd415896236c"
      },
      "source": [
        "import numpy as np\n",
        "df_train.dropna(axis = 0 , inplace = True)\n",
        "df_train.info()"
      ],
      "execution_count": 5,
      "outputs": [
        {
          "output_type": "stream",
          "text": [
            "<class 'pandas.core.frame.DataFrame'>\n",
            "Int64Index: 18285 entries, 0 to 20799\n",
            "Data columns (total 5 columns):\n",
            " #   Column  Non-Null Count  Dtype \n",
            "---  ------  --------------  ----- \n",
            " 0   id      18285 non-null  int64 \n",
            " 1   title   18285 non-null  object\n",
            " 2   author  18285 non-null  object\n",
            " 3   text    18285 non-null  object\n",
            " 4   label   18285 non-null  int64 \n",
            "dtypes: int64(2), object(3)\n",
            "memory usage: 857.1+ KB\n"
          ],
          "name": "stdout"
        }
      ]
    },
    {
      "cell_type": "code",
      "metadata": {
        "colab": {
          "base_uri": "https://localhost:8080/",
          "height": 731
        },
        "id": "X8_MpqWIXDcQ",
        "outputId": "6e73572e-5631-4a78-f363-1af6bde1c5b2"
      },
      "source": [
        "labels_0 = df_train[df_train['label'] == int(0)].sample(5000)\n",
        "print(labels_0.shape)\n",
        "\n",
        "labels_1 = df_train[df_train['label'] == int(1)].sample(5000)\n",
        "print(labels_1.shape)\n",
        "\n",
        "new_df = pd.concat([labels_0 , labels_1] , ignore_index = True , axis = 0)\n",
        "print(new_df.shape)\n",
        "new_df = new_df.reset_index()\n",
        "new_df.head()"
      ],
      "execution_count": 6,
      "outputs": [
        {
          "output_type": "stream",
          "text": [
            "(5000, 5)\n",
            "(5000, 5)\n",
            "(10000, 5)\n"
          ],
          "name": "stdout"
        },
        {
          "output_type": "execute_result",
          "data": {
            "text/html": [
              "<div>\n",
              "<style scoped>\n",
              "    .dataframe tbody tr th:only-of-type {\n",
              "        vertical-align: middle;\n",
              "    }\n",
              "\n",
              "    .dataframe tbody tr th {\n",
              "        vertical-align: top;\n",
              "    }\n",
              "\n",
              "    .dataframe thead th {\n",
              "        text-align: right;\n",
              "    }\n",
              "</style>\n",
              "<table border=\"1\" class=\"dataframe\">\n",
              "  <thead>\n",
              "    <tr style=\"text-align: right;\">\n",
              "      <th></th>\n",
              "      <th>index</th>\n",
              "      <th>id</th>\n",
              "      <th>title</th>\n",
              "      <th>author</th>\n",
              "      <th>text</th>\n",
              "      <th>label</th>\n",
              "    </tr>\n",
              "  </thead>\n",
              "  <tbody>\n",
              "    <tr>\n",
              "      <th>0</th>\n",
              "      <td>0</td>\n",
              "      <td>346</td>\n",
              "      <td>FLASHBACK - Reports: Obama’s 2008 Campaign Reps Talked with Iran, Hamas</td>\n",
              "      <td>Aaron Klein</td>\n",
              "      <td>Amid the controversy surrounding White House National Security Adviser Michael Flynn’s alleged conversations with Russia, it may be instrumental to recall that representatives for Barack Obama’s 2008 presidential campaign were accused of meeting with Hamas and Iran. [Depending on what took place, the alleged contacts with Iran may have violated the Logan Act, which bars citizens from negotiating with foreign governments in dispute with the United States. It may be questionable whether Hamas, which rules the Gaza Strip, legally qualifies as a foreign government.  In 2008, Robert Malley stepped down as an informal foreign policy adviser to Obama’s campaign when it was revealed that he met with Hamas members. Malley admitted to the meetings, but he claimed he met with the terrorists as part of his private job. “I have never hidden the fact that I had meetings with Hamas,” Malley wrote in an open letter published in the New York Times. “I do this as part of my job as Middle East progra...</td>\n",
              "      <td>0</td>\n",
              "    </tr>\n",
              "    <tr>\n",
              "      <th>1</th>\n",
              "      <td>1</td>\n",
              "      <td>14060</td>\n",
              "      <td>A Biased Judge? Donald Trump Has Claimed It Before - The New York Times</td>\n",
              "      <td>Michael Barbaro and Megan Twohey</td>\n",
              "      <td>The circumstances sound eerily familiar: Donald J. Trump and his legal team had suffered a setback in a major court case. So they leveled an attack on the presiding judge, calling him irredeemably biased and unfair. “Your Honor,” wrote a lawyer for Mr. Trump, “harbors   antagonism that would make impartial adjudication impossible. ” The year was 2008, and Mr. Trump’s arguments closely resembled those he is now making against Judge Gonzalo P. Curiel, a federal judge in California overseeing a class action lawsuit against the defunct Trump University. Today, Mr. Trump claims that Judge Curiel, who was born in Indiana, is incapable of objectively judging the case because of his Mexican heritage and record of being, in Mr. Trump’s words, “a hater of Donald Trump. ” Between 2008 and 2010, Mr. Trump’s lawyers went even further  —   turning angry accusations into an unusual,   legal campaign to remove not one but two New York judges who oversaw the lawsuit. One judge was an   man, the oth...</td>\n",
              "      <td>0</td>\n",
              "    </tr>\n",
              "    <tr>\n",
              "      <th>2</th>\n",
              "      <td>2</td>\n",
              "      <td>13054</td>\n",
              "      <td>Sean Spicer Raises Outcry With Talk of Hitler, Assad and Poison Gas - The New York Times</td>\n",
              "      <td>Nicholas Fandos and Mark Landler</td>\n",
              "      <td>WASHINGTON  —   The White House press secretary, Sean Spicer, set off an intense backlash on Tuesday when he suggested that President Bashar   of Syria was guilty of acts worse than Hitler and asserted that Hitler had not used chemical weapons, ignoring the use of gas chambers at concentration camps during the Holocaust. Mr. Spicer later apologized. During his daily briefing for reporters, Mr. Spicer was defending President Trump’s decision to order a missile strike on Syria by trying to lend gravity to the actions of Mr. Assad. American officials accuse the Syrian president of using sarin gas, a lethal chemical weapon, in an attack on a   area of Idlib Province last week that killed dozens, many of them children. But in misconstruing the facts of the Holocaust  —   Nazi Germany’s brutally efficient, carefully orchestrated extermination of six million Jews and others  —   Mr. Spicer instead drew a torrent of criticism and added to the perception that the Trump White House lacks sen...</td>\n",
              "      <td>0</td>\n",
              "    </tr>\n",
              "    <tr>\n",
              "      <th>3</th>\n",
              "      <td>3</td>\n",
              "      <td>6853</td>\n",
              "      <td>Upcoming Horror Game ’Outlast 2’ Banned in Australia - Breitbart</td>\n",
              "      <td>Nate Church</td>\n",
              "      <td>survival horror game Outlast 2 has been denied classification by the Australian Classification Board, effectively banning it from sale in Australia. [While the original Outlast and its Whistleblower expansion contained numerous scenes of graphic violence, and Outlast 2 looks to follow that trend based on the demo that was released last year, that’s not the reason given for its ban. The game has reportedly been refused even the   R18+ rating due to “a depiction of implied sexual violence” in one part of the game (SPOILER WARNING):  In one   in the game   …     a female creature prepares Blake for a ritual. She says, “I want to see your true face. Your seed will burn this world. ” Shortly afterwards, he objects to having   dust blown into his face, yelling, “Nope! Nope!” before he stumbles into a forest clearing. His vision blurring, he witnesses what appears to a ritualistic orgy. His wife, Lynn, calls out for his help, saying, “It hurts! Oh god! ,” as she hangs from chains on a r...</td>\n",
              "      <td>0</td>\n",
              "    </tr>\n",
              "    <tr>\n",
              "      <th>4</th>\n",
              "      <td>4</td>\n",
              "      <td>17320</td>\n",
              "      <td>Trump Celebrates Epic Press Conference Thanks Rush Limbaugh</td>\n",
              "      <td>Charlie Spiering</td>\n",
              "      <td>President Donald Trump celebrated the results of his epic press conference at the White House, thanking those who said nice things about it. [“Thank you for all of the nice statements on the Press Conference yesterday,” he wrote on Twitter. “Rush Limbaugh said one of greatest ever. Fake media not happy!”  Mainstream media appeared bewildered after Trump bantered with them for an hour and 17 minutes in the East Room of the White House, repeatedly criticizing reporters for their hateful tone towards his administration and their obsession with his campaign’s communication with Russia. Although many Washington D. C. Republicans were reportedly appalled by the press conference, talk radio’s Rush Limbaugh praised the   press conference in which Trump engaged the media head on. “This was one of the most effective press conferences I have ever seen,” Limbaugh said on his show immediately after the event. “The press is going to hate him even more after this. ” Trump took questions from 17 d...</td>\n",
              "      <td>0</td>\n",
              "    </tr>\n",
              "  </tbody>\n",
              "</table>\n",
              "</div>"
            ],
            "text/plain": [
              "   index  ...  label\n",
              "0      0  ...      0\n",
              "1      1  ...      0\n",
              "2      2  ...      0\n",
              "3      3  ...      0\n",
              "4      4  ...      0\n",
              "\n",
              "[5 rows x 6 columns]"
            ]
          },
          "metadata": {
            "tags": []
          },
          "execution_count": 6
        }
      ]
    },
    {
      "cell_type": "code",
      "metadata": {
        "colab": {
          "base_uri": "https://localhost:8080/"
        },
        "id": "sENHnDTJaOeZ",
        "outputId": "2187b7f5-9f3e-4d94-d934-0302425e05d8"
      },
      "source": [
        "import nltk\n",
        "from nltk.corpus import stopwords\n",
        "from time import time\n",
        "import re\n",
        "from nltk.util import ngrams\n",
        "from nltk.stem import WordNetLemmatizer as wnl\n",
        "nltk.download('stopwords')"
      ],
      "execution_count": 7,
      "outputs": [
        {
          "output_type": "stream",
          "text": [
            "[nltk_data] Downloading package stopwords to /root/nltk_data...\n",
            "[nltk_data]   Unzipping corpora/stopwords.zip.\n"
          ],
          "name": "stdout"
        },
        {
          "output_type": "execute_result",
          "data": {
            "text/plain": [
              "True"
            ]
          },
          "metadata": {
            "tags": []
          },
          "execution_count": 7
        }
      ]
    },
    {
      "cell_type": "code",
      "metadata": {
        "colab": {
          "base_uri": "https://localhost:8080/",
          "height": 799
        },
        "id": "kQi5BEXcY0T5",
        "outputId": "943b4e44-33e4-4b92-e547-73aed550760c"
      },
      "source": [
        "def clean_text(text):  \n",
        "    lower = text.lower()\n",
        "    words = re.sub(r\"(@[A-Za-z0-9]+)|([^0-9A-Za-z \\t])|(\\w+:\\/\\/\\S+)|^rt|http.+?\", \"\", lower )  \n",
        "    #pattren = r\"[^\\w\\s\\d]\"\n",
        "    #words = re.sub(pattren, \"\", lower)\n",
        "    words2 = words.split()\n",
        "    final_words =  [word for word in words2 if word not in stopwords.words('english')]\n",
        "    final_words = ' '.join(final_words)\n",
        "    return(final_words)\n",
        "\n",
        "t = time()\n",
        "new_df['Cleaned-text'] = new_df['title'].apply(clean_text)\n",
        "print(\"Total time taken to run : {} mins\".format(np.round((time()-t)/60,decimals = 2)))\n",
        "\n",
        "new_df.head()"
      ],
      "execution_count": 8,
      "outputs": [
        {
          "output_type": "stream",
          "text": [
            "Total time taken to run : 0.19 mins\n"
          ],
          "name": "stdout"
        },
        {
          "output_type": "execute_result",
          "data": {
            "text/html": [
              "<div>\n",
              "<style scoped>\n",
              "    .dataframe tbody tr th:only-of-type {\n",
              "        vertical-align: middle;\n",
              "    }\n",
              "\n",
              "    .dataframe tbody tr th {\n",
              "        vertical-align: top;\n",
              "    }\n",
              "\n",
              "    .dataframe thead th {\n",
              "        text-align: right;\n",
              "    }\n",
              "</style>\n",
              "<table border=\"1\" class=\"dataframe\">\n",
              "  <thead>\n",
              "    <tr style=\"text-align: right;\">\n",
              "      <th></th>\n",
              "      <th>index</th>\n",
              "      <th>id</th>\n",
              "      <th>title</th>\n",
              "      <th>author</th>\n",
              "      <th>text</th>\n",
              "      <th>label</th>\n",
              "      <th>Cleaned-text</th>\n",
              "    </tr>\n",
              "  </thead>\n",
              "  <tbody>\n",
              "    <tr>\n",
              "      <th>0</th>\n",
              "      <td>0</td>\n",
              "      <td>346</td>\n",
              "      <td>FLASHBACK - Reports: Obama’s 2008 Campaign Reps Talked with Iran, Hamas</td>\n",
              "      <td>Aaron Klein</td>\n",
              "      <td>Amid the controversy surrounding White House National Security Adviser Michael Flynn’s alleged conversations with Russia, it may be instrumental to recall that representatives for Barack Obama’s 2008 presidential campaign were accused of meeting with Hamas and Iran. [Depending on what took place, the alleged contacts with Iran may have violated the Logan Act, which bars citizens from negotiating with foreign governments in dispute with the United States. It may be questionable whether Hamas, which rules the Gaza Strip, legally qualifies as a foreign government.  In 2008, Robert Malley stepped down as an informal foreign policy adviser to Obama’s campaign when it was revealed that he met with Hamas members. Malley admitted to the meetings, but he claimed he met with the terrorists as part of his private job. “I have never hidden the fact that I had meetings with Hamas,” Malley wrote in an open letter published in the New York Times. “I do this as part of my job as Middle East progra...</td>\n",
              "      <td>0</td>\n",
              "      <td>flashback reports obamas 2008 campaign reps talked iran hamas</td>\n",
              "    </tr>\n",
              "    <tr>\n",
              "      <th>1</th>\n",
              "      <td>1</td>\n",
              "      <td>14060</td>\n",
              "      <td>A Biased Judge? Donald Trump Has Claimed It Before - The New York Times</td>\n",
              "      <td>Michael Barbaro and Megan Twohey</td>\n",
              "      <td>The circumstances sound eerily familiar: Donald J. Trump and his legal team had suffered a setback in a major court case. So they leveled an attack on the presiding judge, calling him irredeemably biased and unfair. “Your Honor,” wrote a lawyer for Mr. Trump, “harbors   antagonism that would make impartial adjudication impossible. ” The year was 2008, and Mr. Trump’s arguments closely resembled those he is now making against Judge Gonzalo P. Curiel, a federal judge in California overseeing a class action lawsuit against the defunct Trump University. Today, Mr. Trump claims that Judge Curiel, who was born in Indiana, is incapable of objectively judging the case because of his Mexican heritage and record of being, in Mr. Trump’s words, “a hater of Donald Trump. ” Between 2008 and 2010, Mr. Trump’s lawyers went even further  —   turning angry accusations into an unusual,   legal campaign to remove not one but two New York judges who oversaw the lawsuit. One judge was an   man, the oth...</td>\n",
              "      <td>0</td>\n",
              "      <td>biased judge donald trump claimed new york times</td>\n",
              "    </tr>\n",
              "    <tr>\n",
              "      <th>2</th>\n",
              "      <td>2</td>\n",
              "      <td>13054</td>\n",
              "      <td>Sean Spicer Raises Outcry With Talk of Hitler, Assad and Poison Gas - The New York Times</td>\n",
              "      <td>Nicholas Fandos and Mark Landler</td>\n",
              "      <td>WASHINGTON  —   The White House press secretary, Sean Spicer, set off an intense backlash on Tuesday when he suggested that President Bashar   of Syria was guilty of acts worse than Hitler and asserted that Hitler had not used chemical weapons, ignoring the use of gas chambers at concentration camps during the Holocaust. Mr. Spicer later apologized. During his daily briefing for reporters, Mr. Spicer was defending President Trump’s decision to order a missile strike on Syria by trying to lend gravity to the actions of Mr. Assad. American officials accuse the Syrian president of using sarin gas, a lethal chemical weapon, in an attack on a   area of Idlib Province last week that killed dozens, many of them children. But in misconstruing the facts of the Holocaust  —   Nazi Germany’s brutally efficient, carefully orchestrated extermination of six million Jews and others  —   Mr. Spicer instead drew a torrent of criticism and added to the perception that the Trump White House lacks sen...</td>\n",
              "      <td>0</td>\n",
              "      <td>sean spicer raises outcry talk hitler assad poison gas new york times</td>\n",
              "    </tr>\n",
              "    <tr>\n",
              "      <th>3</th>\n",
              "      <td>3</td>\n",
              "      <td>6853</td>\n",
              "      <td>Upcoming Horror Game ’Outlast 2’ Banned in Australia - Breitbart</td>\n",
              "      <td>Nate Church</td>\n",
              "      <td>survival horror game Outlast 2 has been denied classification by the Australian Classification Board, effectively banning it from sale in Australia. [While the original Outlast and its Whistleblower expansion contained numerous scenes of graphic violence, and Outlast 2 looks to follow that trend based on the demo that was released last year, that’s not the reason given for its ban. The game has reportedly been refused even the   R18+ rating due to “a depiction of implied sexual violence” in one part of the game (SPOILER WARNING):  In one   in the game   …     a female creature prepares Blake for a ritual. She says, “I want to see your true face. Your seed will burn this world. ” Shortly afterwards, he objects to having   dust blown into his face, yelling, “Nope! Nope!” before he stumbles into a forest clearing. His vision blurring, he witnesses what appears to a ritualistic orgy. His wife, Lynn, calls out for his help, saying, “It hurts! Oh god! ,” as she hangs from chains on a r...</td>\n",
              "      <td>0</td>\n",
              "      <td>upcoming horror game outlast 2 banned australia breitbart</td>\n",
              "    </tr>\n",
              "    <tr>\n",
              "      <th>4</th>\n",
              "      <td>4</td>\n",
              "      <td>17320</td>\n",
              "      <td>Trump Celebrates Epic Press Conference Thanks Rush Limbaugh</td>\n",
              "      <td>Charlie Spiering</td>\n",
              "      <td>President Donald Trump celebrated the results of his epic press conference at the White House, thanking those who said nice things about it. [“Thank you for all of the nice statements on the Press Conference yesterday,” he wrote on Twitter. “Rush Limbaugh said one of greatest ever. Fake media not happy!”  Mainstream media appeared bewildered after Trump bantered with them for an hour and 17 minutes in the East Room of the White House, repeatedly criticizing reporters for their hateful tone towards his administration and their obsession with his campaign’s communication with Russia. Although many Washington D. C. Republicans were reportedly appalled by the press conference, talk radio’s Rush Limbaugh praised the   press conference in which Trump engaged the media head on. “This was one of the most effective press conferences I have ever seen,” Limbaugh said on his show immediately after the event. “The press is going to hate him even more after this. ” Trump took questions from 17 d...</td>\n",
              "      <td>0</td>\n",
              "      <td>trump celebrates epic press conference thanks rush limbaugh</td>\n",
              "    </tr>\n",
              "  </tbody>\n",
              "</table>\n",
              "</div>"
            ],
            "text/plain": [
              "   index  ...                                                           Cleaned-text\n",
              "0      0  ...          flashback reports obamas 2008 campaign reps talked iran hamas\n",
              "1      1  ...                       biased judge donald trump claimed new york times\n",
              "2      2  ...  sean spicer raises outcry talk hitler assad poison gas new york times\n",
              "3      3  ...              upcoming horror game outlast 2 banned australia breitbart\n",
              "4      4  ...            trump celebrates epic press conference thanks rush limbaugh\n",
              "\n",
              "[5 rows x 7 columns]"
            ]
          },
          "metadata": {
            "tags": []
          },
          "execution_count": 8
        }
      ]
    },
    {
      "cell_type": "code",
      "metadata": {
        "colab": {
          "base_uri": "https://localhost:8080/"
        },
        "id": "1rx-nEKsbFYt",
        "outputId": "2deda0d4-03fa-4395-f274-a7e1cbcaa5ec"
      },
      "source": [
        "!pip install spacy"
      ],
      "execution_count": 9,
      "outputs": [
        {
          "output_type": "stream",
          "text": [
            "Requirement already satisfied: spacy in /usr/local/lib/python3.7/dist-packages (2.2.4)\n",
            "Requirement already satisfied: wasabi<1.1.0,>=0.4.0 in /usr/local/lib/python3.7/dist-packages (from spacy) (0.8.2)\n",
            "Requirement already satisfied: murmurhash<1.1.0,>=0.28.0 in /usr/local/lib/python3.7/dist-packages (from spacy) (1.0.5)\n",
            "Requirement already satisfied: numpy>=1.15.0 in /usr/local/lib/python3.7/dist-packages (from spacy) (1.19.5)\n",
            "Requirement already satisfied: setuptools in /usr/local/lib/python3.7/dist-packages (from spacy) (56.0.0)\n",
            "Requirement already satisfied: catalogue<1.1.0,>=0.0.7 in /usr/local/lib/python3.7/dist-packages (from spacy) (1.0.0)\n",
            "Requirement already satisfied: cymem<2.1.0,>=2.0.2 in /usr/local/lib/python3.7/dist-packages (from spacy) (2.0.5)\n",
            "Requirement already satisfied: blis<0.5.0,>=0.4.0 in /usr/local/lib/python3.7/dist-packages (from spacy) (0.4.1)\n",
            "Requirement already satisfied: preshed<3.1.0,>=3.0.2 in /usr/local/lib/python3.7/dist-packages (from spacy) (3.0.5)\n",
            "Requirement already satisfied: tqdm<5.0.0,>=4.38.0 in /usr/local/lib/python3.7/dist-packages (from spacy) (4.41.1)\n",
            "Requirement already satisfied: thinc==7.4.0 in /usr/local/lib/python3.7/dist-packages (from spacy) (7.4.0)\n",
            "Requirement already satisfied: requests<3.0.0,>=2.13.0 in /usr/local/lib/python3.7/dist-packages (from spacy) (2.23.0)\n",
            "Requirement already satisfied: srsly<1.1.0,>=1.0.2 in /usr/local/lib/python3.7/dist-packages (from spacy) (1.0.5)\n",
            "Requirement already satisfied: plac<1.2.0,>=0.9.6 in /usr/local/lib/python3.7/dist-packages (from spacy) (1.1.3)\n",
            "Requirement already satisfied: importlib-metadata>=0.20; python_version < \"3.8\" in /usr/local/lib/python3.7/dist-packages (from catalogue<1.1.0,>=0.0.7->spacy) (3.10.1)\n",
            "Requirement already satisfied: chardet<4,>=3.0.2 in /usr/local/lib/python3.7/dist-packages (from requests<3.0.0,>=2.13.0->spacy) (3.0.4)\n",
            "Requirement already satisfied: urllib3!=1.25.0,!=1.25.1,<1.26,>=1.21.1 in /usr/local/lib/python3.7/dist-packages (from requests<3.0.0,>=2.13.0->spacy) (1.24.3)\n",
            "Requirement already satisfied: certifi>=2017.4.17 in /usr/local/lib/python3.7/dist-packages (from requests<3.0.0,>=2.13.0->spacy) (2020.12.5)\n",
            "Requirement already satisfied: idna<3,>=2.5 in /usr/local/lib/python3.7/dist-packages (from requests<3.0.0,>=2.13.0->spacy) (2.10)\n",
            "Requirement already satisfied: typing-extensions>=3.6.4; python_version < \"3.8\" in /usr/local/lib/python3.7/dist-packages (from importlib-metadata>=0.20; python_version < \"3.8\"->catalogue<1.1.0,>=0.0.7->spacy) (3.7.4.3)\n",
            "Requirement already satisfied: zipp>=0.5 in /usr/local/lib/python3.7/dist-packages (from importlib-metadata>=0.20; python_version < \"3.8\"->catalogue<1.1.0,>=0.0.7->spacy) (3.4.1)\n"
          ],
          "name": "stdout"
        }
      ]
    },
    {
      "cell_type": "code",
      "metadata": {
        "colab": {
          "base_uri": "https://localhost:8080/",
          "height": 1000
        },
        "id": "X8pA-rA3aEM8",
        "outputId": "37ecfbf9-dddf-4c49-cc6b-f1ef05f9ae27"
      },
      "source": [
        "import spacy\n",
        "nlp = spacy.load('en_core_web_sm')\n",
        "\n",
        "## Lemmatization of text\n",
        "def lemmatize_text(text):\n",
        "    text = nlp(text)\n",
        "    text = ' '.join([word.lemma_ if word.lemma_ != '-PRON-' else word.text for word in text])\n",
        "    return text\n",
        "\n",
        "## It would take much time , I'll be tracking the overall progress by taking 50 records at a time and with GPU support .\n",
        "\n",
        "i = 0\n",
        "j = 50\n",
        "t = time()\n",
        "for k in range(len(new_df)):\n",
        "        if i < 9950:\n",
        "            print(\"We are at [{}:{}] loc and {}th iteration of total 200 epochs , time spent {} secs ... \\\n",
        "            \".format(i,j,k,np.round((time()-t))))\n",
        "            new_df['Cleaned-text'][i:j] = new_df['Cleaned-text'][i:j].apply(lemmatize_text)\n",
        "            \n",
        "        else:\n",
        "            print(\"Last iteration !!!!!\")\n",
        "            new_df['Cleaned-text'][i:] = new_df['Cleaned-text'][i:].apply(lemmatize_text)\n",
        "            \n",
        "            break\n",
        "        i+=50\n",
        "        j+=50\n",
        "        \n",
        "new_df.head()"
      ],
      "execution_count": 10,
      "outputs": [
        {
          "output_type": "stream",
          "text": [
            "We are at [9050:9100] loc and 181th iteration of total 200 epochs , time spent 302.0 secs ...             \n",
            "We are at [9100:9150] loc and 182th iteration of total 200 epochs , time spent 304.0 secs ...             \n",
            "We are at [9150:9200] loc and 183th iteration of total 200 epochs , time spent 305.0 secs ...             \n",
            "We are at [9200:9250] loc and 184th iteration of total 200 epochs , time spent 307.0 secs ...             \n",
            "We are at [9250:9300] loc and 185th iteration of total 200 epochs , time spent 309.0 secs ...             \n",
            "We are at [9300:9350] loc and 186th iteration of total 200 epochs , time spent 310.0 secs ...             \n",
            "We are at [9350:9400] loc and 187th iteration of total 200 epochs , time spent 312.0 secs ...             \n",
            "We are at [9400:9450] loc and 188th iteration of total 200 epochs , time spent 314.0 secs ...             \n",
            "We are at [9450:9500] loc and 189th iteration of total 200 epochs , time spent 315.0 secs ...             \n",
            "We are at [9500:9550] loc and 190th iteration of total 200 epochs , time spent 317.0 secs ...             \n",
            "We are at [9550:9600] loc and 191th iteration of total 200 epochs , time spent 319.0 secs ...             \n",
            "We are at [9600:9650] loc and 192th iteration of total 200 epochs , time spent 320.0 secs ...             \n",
            "We are at [9650:9700] loc and 193th iteration of total 200 epochs , time spent 322.0 secs ...             \n",
            "We are at [9700:9750] loc and 194th iteration of total 200 epochs , time spent 323.0 secs ...             \n",
            "We are at [9750:9800] loc and 195th iteration of total 200 epochs , time spent 325.0 secs ...             \n",
            "We are at [9800:9850] loc and 196th iteration of total 200 epochs , time spent 327.0 secs ...             \n",
            "We are at [9850:9900] loc and 197th iteration of total 200 epochs , time spent 328.0 secs ...             \n",
            "We are at [9900:9950] loc and 198th iteration of total 200 epochs , time spent 330.0 secs ...             \n",
            "Last iteration !!!!!\n"
          ],
          "name": "stdout"
        },
        {
          "output_type": "stream",
          "text": [
            "/usr/local/lib/python3.7/dist-packages/ipykernel_launcher.py:22: SettingWithCopyWarning: \n",
            "A value is trying to be set on a copy of a slice from a DataFrame\n",
            "\n",
            "See the caveats in the documentation: https://pandas.pydata.org/pandas-docs/stable/user_guide/indexing.html#returning-a-view-versus-a-copy\n"
          ],
          "name": "stderr"
        },
        {
          "output_type": "execute_result",
          "data": {
            "text/html": [
              "<div>\n",
              "<style scoped>\n",
              "    .dataframe tbody tr th:only-of-type {\n",
              "        vertical-align: middle;\n",
              "    }\n",
              "\n",
              "    .dataframe tbody tr th {\n",
              "        vertical-align: top;\n",
              "    }\n",
              "\n",
              "    .dataframe thead th {\n",
              "        text-align: right;\n",
              "    }\n",
              "</style>\n",
              "<table border=\"1\" class=\"dataframe\">\n",
              "  <thead>\n",
              "    <tr style=\"text-align: right;\">\n",
              "      <th></th>\n",
              "      <th>index</th>\n",
              "      <th>id</th>\n",
              "      <th>title</th>\n",
              "      <th>author</th>\n",
              "      <th>text</th>\n",
              "      <th>label</th>\n",
              "      <th>Cleaned-text</th>\n",
              "    </tr>\n",
              "  </thead>\n",
              "  <tbody>\n",
              "    <tr>\n",
              "      <th>0</th>\n",
              "      <td>0</td>\n",
              "      <td>346</td>\n",
              "      <td>FLASHBACK - Reports: Obama’s 2008 Campaign Reps Talked with Iran, Hamas</td>\n",
              "      <td>Aaron Klein</td>\n",
              "      <td>Amid the controversy surrounding White House National Security Adviser Michael Flynn’s alleged conversations with Russia, it may be instrumental to recall that representatives for Barack Obama’s 2008 presidential campaign were accused of meeting with Hamas and Iran. [Depending on what took place, the alleged contacts with Iran may have violated the Logan Act, which bars citizens from negotiating with foreign governments in dispute with the United States. It may be questionable whether Hamas, which rules the Gaza Strip, legally qualifies as a foreign government.  In 2008, Robert Malley stepped down as an informal foreign policy adviser to Obama’s campaign when it was revealed that he met with Hamas members. Malley admitted to the meetings, but he claimed he met with the terrorists as part of his private job. “I have never hidden the fact that I had meetings with Hamas,” Malley wrote in an open letter published in the New York Times. “I do this as part of my job as Middle East progra...</td>\n",
              "      <td>0</td>\n",
              "      <td>flashback report obamas 2008 campaign reps talk iran hamas</td>\n",
              "    </tr>\n",
              "    <tr>\n",
              "      <th>1</th>\n",
              "      <td>1</td>\n",
              "      <td>14060</td>\n",
              "      <td>A Biased Judge? Donald Trump Has Claimed It Before - The New York Times</td>\n",
              "      <td>Michael Barbaro and Megan Twohey</td>\n",
              "      <td>The circumstances sound eerily familiar: Donald J. Trump and his legal team had suffered a setback in a major court case. So they leveled an attack on the presiding judge, calling him irredeemably biased and unfair. “Your Honor,” wrote a lawyer for Mr. Trump, “harbors   antagonism that would make impartial adjudication impossible. ” The year was 2008, and Mr. Trump’s arguments closely resembled those he is now making against Judge Gonzalo P. Curiel, a federal judge in California overseeing a class action lawsuit against the defunct Trump University. Today, Mr. Trump claims that Judge Curiel, who was born in Indiana, is incapable of objectively judging the case because of his Mexican heritage and record of being, in Mr. Trump’s words, “a hater of Donald Trump. ” Between 2008 and 2010, Mr. Trump’s lawyers went even further  —   turning angry accusations into an unusual,   legal campaign to remove not one but two New York judges who oversaw the lawsuit. One judge was an   man, the oth...</td>\n",
              "      <td>0</td>\n",
              "      <td>biased judge donald trump claim new york times</td>\n",
              "    </tr>\n",
              "    <tr>\n",
              "      <th>2</th>\n",
              "      <td>2</td>\n",
              "      <td>13054</td>\n",
              "      <td>Sean Spicer Raises Outcry With Talk of Hitler, Assad and Poison Gas - The New York Times</td>\n",
              "      <td>Nicholas Fandos and Mark Landler</td>\n",
              "      <td>WASHINGTON  —   The White House press secretary, Sean Spicer, set off an intense backlash on Tuesday when he suggested that President Bashar   of Syria was guilty of acts worse than Hitler and asserted that Hitler had not used chemical weapons, ignoring the use of gas chambers at concentration camps during the Holocaust. Mr. Spicer later apologized. During his daily briefing for reporters, Mr. Spicer was defending President Trump’s decision to order a missile strike on Syria by trying to lend gravity to the actions of Mr. Assad. American officials accuse the Syrian president of using sarin gas, a lethal chemical weapon, in an attack on a   area of Idlib Province last week that killed dozens, many of them children. But in misconstruing the facts of the Holocaust  —   Nazi Germany’s brutally efficient, carefully orchestrated extermination of six million Jews and others  —   Mr. Spicer instead drew a torrent of criticism and added to the perception that the Trump White House lacks sen...</td>\n",
              "      <td>0</td>\n",
              "      <td>sean spicer raise outcry talk hitler assad poison gas new york times</td>\n",
              "    </tr>\n",
              "    <tr>\n",
              "      <th>3</th>\n",
              "      <td>3</td>\n",
              "      <td>6853</td>\n",
              "      <td>Upcoming Horror Game ’Outlast 2’ Banned in Australia - Breitbart</td>\n",
              "      <td>Nate Church</td>\n",
              "      <td>survival horror game Outlast 2 has been denied classification by the Australian Classification Board, effectively banning it from sale in Australia. [While the original Outlast and its Whistleblower expansion contained numerous scenes of graphic violence, and Outlast 2 looks to follow that trend based on the demo that was released last year, that’s not the reason given for its ban. The game has reportedly been refused even the   R18+ rating due to “a depiction of implied sexual violence” in one part of the game (SPOILER WARNING):  In one   in the game   …     a female creature prepares Blake for a ritual. She says, “I want to see your true face. Your seed will burn this world. ” Shortly afterwards, he objects to having   dust blown into his face, yelling, “Nope! Nope!” before he stumbles into a forest clearing. His vision blurring, he witnesses what appears to a ritualistic orgy. His wife, Lynn, calls out for his help, saying, “It hurts! Oh god! ,” as she hangs from chains on a r...</td>\n",
              "      <td>0</td>\n",
              "      <td>upcoming horror game outlast 2 ban australia breitbart</td>\n",
              "    </tr>\n",
              "    <tr>\n",
              "      <th>4</th>\n",
              "      <td>4</td>\n",
              "      <td>17320</td>\n",
              "      <td>Trump Celebrates Epic Press Conference Thanks Rush Limbaugh</td>\n",
              "      <td>Charlie Spiering</td>\n",
              "      <td>President Donald Trump celebrated the results of his epic press conference at the White House, thanking those who said nice things about it. [“Thank you for all of the nice statements on the Press Conference yesterday,” he wrote on Twitter. “Rush Limbaugh said one of greatest ever. Fake media not happy!”  Mainstream media appeared bewildered after Trump bantered with them for an hour and 17 minutes in the East Room of the White House, repeatedly criticizing reporters for their hateful tone towards his administration and their obsession with his campaign’s communication with Russia. Although many Washington D. C. Republicans were reportedly appalled by the press conference, talk radio’s Rush Limbaugh praised the   press conference in which Trump engaged the media head on. “This was one of the most effective press conferences I have ever seen,” Limbaugh said on his show immediately after the event. “The press is going to hate him even more after this. ” Trump took questions from 17 d...</td>\n",
              "      <td>0</td>\n",
              "      <td>trump celebrate epic press conference thank rush limbaugh</td>\n",
              "    </tr>\n",
              "  </tbody>\n",
              "</table>\n",
              "</div>"
            ],
            "text/plain": [
              "   index  ...                                                          Cleaned-text\n",
              "0      0  ...            flashback report obamas 2008 campaign reps talk iran hamas\n",
              "1      1  ...                        biased judge donald trump claim new york times\n",
              "2      2  ...  sean spicer raise outcry talk hitler assad poison gas new york times\n",
              "3      3  ...                upcoming horror game outlast 2 ban australia breitbart\n",
              "4      4  ...             trump celebrate epic press conference thank rush limbaugh\n",
              "\n",
              "[5 rows x 7 columns]"
            ]
          },
          "metadata": {
            "tags": []
          },
          "execution_count": 10
        }
      ]
    },
    {
      "cell_type": "code",
      "metadata": {
        "colab": {
          "base_uri": "https://localhost:8080/"
        },
        "id": "gAw8dg_ycUI2",
        "outputId": "722fca2a-034e-4e3c-e169-5e8dd0957060"
      },
      "source": [
        "import sklearn\n",
        "from sklearn.model_selection import train_test_split\n",
        "X_train , X_test , y_train , y_test = train_test_split(new_df['Cleaned-text'],new_df['label'],test_size = 0.1,random_state = 42,shuffle= True,\n",
        "                                                      )\n",
        "print(X_train.shape)\n",
        "print(X_test.shape)\n",
        "print(y_train.shape)\n",
        "print(y_test.shape)\n",
        "print(y_test.value_counts())"
      ],
      "execution_count": 11,
      "outputs": [
        {
          "output_type": "stream",
          "text": [
            "(9000,)\n",
            "(1000,)\n",
            "(9000,)\n",
            "(1000,)\n",
            "1    508\n",
            "0    492\n",
            "Name: label, dtype: int64\n"
          ],
          "name": "stdout"
        }
      ]
    },
    {
      "cell_type": "code",
      "metadata": {
        "id": "fKYV2WH_gWTf"
      },
      "source": [
        "from tqdm import tqdm\n",
        "import nltk\n",
        "from nltk.tokenize import word_tokenize\n",
        "from tensorflow.keras.preprocessing.text import Tokenizer\n",
        "from tensorflow.keras.preprocessing.sequence import pad_sequences\n"
      ],
      "execution_count": 12,
      "outputs": []
    },
    {
      "cell_type": "code",
      "metadata": {
        "colab": {
          "base_uri": "https://localhost:8080/"
        },
        "id": "mNUTE_mmgwL1",
        "outputId": "269e3d79-fb2f-480f-bcff-79dfbb903df8"
      },
      "source": [
        "nltk.download('punkt')"
      ],
      "execution_count": 13,
      "outputs": [
        {
          "output_type": "stream",
          "text": [
            "[nltk_data] Downloading package punkt to /root/nltk_data...\n",
            "[nltk_data]   Unzipping tokenizers/punkt.zip.\n"
          ],
          "name": "stdout"
        },
        {
          "output_type": "execute_result",
          "data": {
            "text/plain": [
              "True"
            ]
          },
          "metadata": {
            "tags": []
          },
          "execution_count": 13
        }
      ]
    },
    {
      "cell_type": "code",
      "metadata": {
        "id": "Cl5s0MIAgdMK"
      },
      "source": [
        "def create_corpus(df):\n",
        "    corpus=[]\n",
        "    for text in tqdm(df):\n",
        "        words=[word for word in word_tokenize(text)]\n",
        "        corpus.append(words)\n",
        "    return corpus"
      ],
      "execution_count": 14,
      "outputs": []
    },
    {
      "cell_type": "code",
      "metadata": {
        "colab": {
          "base_uri": "https://localhost:8080/"
        },
        "collapsed": true,
        "id": "kZjK08nPgf8O",
        "outputId": "5e9c6090-5760-4437-b720-91692b167681"
      },
      "source": [
        "train_corpus = create_corpus(X_train)\n",
        "test_corpus = create_corpus(X_test)\n",
        "test_corpus[:5]"
      ],
      "execution_count": 15,
      "outputs": [
        {
          "output_type": "stream",
          "text": [
            "100%|██████████| 9000/9000 [00:00<00:00, 10106.46it/s]\n",
            "100%|██████████| 1000/1000 [00:00<00:00, 10731.98it/s]\n"
          ],
          "name": "stderr"
        },
        {
          "output_type": "execute_result",
          "data": {
            "text/plain": [
              "[['dnc', 'renews', 'lawsuit', 'rnc', 'voter', 'intimidation', 'video'],\n",
              " ['mcconnell', 'trump', 'learn', 'job', 'breitbart'],\n",
              " ['cbs',\n",
              "  'poll',\n",
              "  'twothirds',\n",
              "  'democrats',\n",
              "  'say',\n",
              "  'islam',\n",
              "  'christianity',\n",
              "  'equally',\n",
              "  'violent',\n",
              "  'breitbart'],\n",
              " ['exally',\n",
              "  'christie',\n",
              "  'link',\n",
              "  'cuomo',\n",
              "  'coverup',\n",
              "  'lane',\n",
              "  'closing',\n",
              "  'new',\n",
              "  'york',\n",
              "  'times'],\n",
              " ['crime',\n",
              "  'soar',\n",
              "  'young',\n",
              "  'migrant',\n",
              "  'mug',\n",
              "  'pensioner',\n",
              "  'drug',\n",
              "  'money',\n",
              "  'breitbart']]"
            ]
          },
          "metadata": {
            "tags": []
          },
          "execution_count": 15
        }
      ]
    },
    {
      "cell_type": "code",
      "metadata": {
        "colab": {
          "base_uri": "https://localhost:8080/"
        },
        "id": "d9eu8lmtgrzJ",
        "outputId": "23080763-d578-48ab-8fdc-efee19bc0ceb"
      },
      "source": [
        "tokenizer_obj = Tokenizer(num_words = 4000, # max number of words to be taken\n",
        "                         filters =  '!\"#$%&()*+,-./:;<=>?@[\\\\]^_`{|}~\\t0-9')\n",
        "tokenizer_obj.fit_on_texts(train_corpus) # methods `texts_to_sequences` or `texts_to_matrix`.\n",
        "train_sequences=tokenizer_obj.texts_to_sequences(train_corpus) # Transforms each text in texts to a sequence of integers.\n",
        "test_sequences=tokenizer_obj.texts_to_sequences(test_corpus)\n",
        "\n",
        "test_sequences[:5]"
      ],
      "execution_count": 16,
      "outputs": [
        {
          "output_type": "execute_result",
          "data": {
            "text/plain": [
              "[[929, 731, 3390, 88, 14],\n",
              " [2051, 4, 590, 162, 5],\n",
              " [2427, 188, 102, 10, 887, 2968, 708, 5],\n",
              " [1248, 302, 3717, 2636, 3927, 2643, 1, 2, 3],\n",
              " [341, 2272, 451, 181, 268, 248, 5]]"
            ]
          },
          "metadata": {
            "tags": []
          },
          "execution_count": 16
        }
      ]
    },
    {
      "cell_type": "code",
      "metadata": {
        "colab": {
          "base_uri": "https://localhost:8080/"
        },
        "id": "b6odVaSLg5XH",
        "outputId": "b6d1a624-8a1a-46f7-bd20-9882cd70469c"
      },
      "source": [
        "train_pad=pad_sequences(train_sequences,maxlen=50,truncating='post',padding='pre') # lists to array form\n",
        "test_pad=pad_sequences(test_sequences,maxlen=50,truncating='post',padding='pre')\n",
        "\n",
        "print(len(train_corpus))\n",
        "print(train_pad.shape)\n",
        "train_pad"
      ],
      "execution_count": 17,
      "outputs": [
        {
          "output_type": "stream",
          "text": [
            "9000\n",
            "(9000, 50)\n"
          ],
          "name": "stdout"
        },
        {
          "output_type": "execute_result",
          "data": {
            "text/plain": [
              "array([[   0,    0,    0, ...,  948, 1022,    5],\n",
              "       [   0,    0,    0, ...,   19,  837, 2288],\n",
              "       [   0,    0,    0, ...,    1,    2,    3],\n",
              "       ...,\n",
              "       [   0,    0,    0, ...,   21,  497,   14],\n",
              "       [   0,    0,    0, ..., 3225,  701,  344],\n",
              "       [   0,    0,    0, ..., 1529, 1000,   53]], dtype=int32)"
            ]
          },
          "metadata": {
            "tags": []
          },
          "execution_count": 17
        }
      ]
    },
    {
      "cell_type": "code",
      "metadata": {
        "colab": {
          "base_uri": "https://localhost:8080/"
        },
        "id": "3CetJN8JhAun",
        "outputId": "7450de4a-bc67-4d40-e5c1-988458524580"
      },
      "source": [
        "word_index=tokenizer_obj.word_index\n",
        "lenght = len(word_index)+1\n",
        "print('Number of unique words:',lenght)"
      ],
      "execution_count": 18,
      "outputs": [
        {
          "output_type": "stream",
          "text": [
            "Number of unique words: 13051\n"
          ],
          "name": "stdout"
        }
      ]
    },
    {
      "cell_type": "code",
      "metadata": {
        "id": "XETA2E_fhFnB"
      },
      "source": [
        "from keras.utils.np_utils import to_categorical"
      ],
      "execution_count": 19,
      "outputs": []
    },
    {
      "cell_type": "code",
      "metadata": {
        "colab": {
          "base_uri": "https://localhost:8080/"
        },
        "id": "Eq-Ph6lkhQYT",
        "outputId": "eb330b5e-cc80-4aec-b09e-411b16e41677"
      },
      "source": [
        "y_train2 = to_categorical(y_train , num_classes = 2 , dtype='int32')\n",
        "y_test2 = to_categorical(y_test , num_classes = 2 , dtype='int32')\n",
        "print(y_train2.shape)"
      ],
      "execution_count": 20,
      "outputs": [
        {
          "output_type": "stream",
          "text": [
            "(9000, 2)\n"
          ],
          "name": "stdout"
        }
      ]
    },
    {
      "cell_type": "code",
      "metadata": {
        "colab": {
          "base_uri": "https://localhost:8080/"
        },
        "id": "2neRqU7Zqwjx",
        "outputId": "abf2c5cc-a57c-4d53-b5ed-eacfad0d174a"
      },
      "source": [
        "y_train2"
      ],
      "execution_count": 21,
      "outputs": [
        {
          "output_type": "execute_result",
          "data": {
            "text/plain": [
              "array([[1, 0],\n",
              "       [1, 0],\n",
              "       [1, 0],\n",
              "       ...,\n",
              "       [0, 1],\n",
              "       [1, 0],\n",
              "       [0, 1]], dtype=int32)"
            ]
          },
          "metadata": {
            "tags": []
          },
          "execution_count": 21
        }
      ]
    },
    {
      "cell_type": "code",
      "metadata": {
        "colab": {
          "base_uri": "https://localhost:8080/"
        },
        "id": "gdMMLDzcqzMl",
        "outputId": "1fd6abea-0216-431b-a01e-ee782237d48c"
      },
      "source": [
        "y_train"
      ],
      "execution_count": 22,
      "outputs": [
        {
          "output_type": "execute_result",
          "data": {
            "text/plain": [
              "4896    0\n",
              "4782    0\n",
              "1496    0\n",
              "1957    0\n",
              "9171    1\n",
              "       ..\n",
              "5734    1\n",
              "5191    1\n",
              "5390    1\n",
              "860     0\n",
              "7270    1\n",
              "Name: label, Length: 9000, dtype: int64"
            ]
          },
          "metadata": {
            "tags": []
          },
          "execution_count": 22
        }
      ]
    },
    {
      "cell_type": "code",
      "metadata": {
        "id": "epqkv1E7hioZ"
      },
      "source": [
        "import tensorflow as tf\n",
        "from tensorflow.keras.models import *\n",
        "from tensorflow.keras.layers import *\n",
        "from tensorflow.keras.callbacks import *\n",
        "from tensorflow.keras.initializers import Constant"
      ],
      "execution_count": 23,
      "outputs": []
    },
    {
      "cell_type": "code",
      "metadata": {
        "colab": {
          "base_uri": "https://localhost:8080/"
        },
        "id": "MfppfS8GhocK",
        "outputId": "65b95121-f877-4a55-d236-f7b258567222"
      },
      "source": [
        "DIM = 300\n",
        "MAX_LEN = 50\n",
        "length = 12967\n",
        "\n",
        "model_1 = Sequential()\n",
        "\n",
        "## Embedding layer\n",
        "model_1.add(Embedding(lenght , DIM , input_length = MAX_LEN))\n",
        "#model.compile('adam' , 'mse')\n",
        "\n",
        "## LSTM layer\n",
        "model_1.add(SpatialDropout1D(0.2))\n",
        "model_1.add(Bidirectional(LSTM(DIM , recurrent_dropout=0.2 , dropout = 0.2)))\n",
        "\n",
        "#Dense Layer\n",
        "model_1.add(Dense(1,activation='sigmoid')) \n",
        "\n",
        "#Add loss function, metrics, optimizer\n",
        "accuracy_metric = tf.keras.metrics.BinaryAccuracy(\n",
        "    name=\"binary_accuracy\", dtype=None, threshold=0.5)\n",
        "model_1.compile(optimizer='adam', loss='binary_crossentropy',metrics=accuracy_metric) \n",
        "\n",
        "#Adding callbacks\n",
        "es = EarlyStopping(monitor='val_loss', mode='min', verbose=1,patience=3)  \n",
        "\n",
        "#Model summary\n",
        "model_1.summary()"
      ],
      "execution_count": 24,
      "outputs": [
        {
          "output_type": "stream",
          "text": [
            "WARNING:tensorflow:Layer lstm will not use cuDNN kernel since it doesn't meet the cuDNN kernel criteria. It will use generic GPU kernel as fallback when running on GPU\n",
            "WARNING:tensorflow:Layer lstm will not use cuDNN kernel since it doesn't meet the cuDNN kernel criteria. It will use generic GPU kernel as fallback when running on GPU\n",
            "WARNING:tensorflow:Layer lstm will not use cuDNN kernel since it doesn't meet the cuDNN kernel criteria. It will use generic GPU kernel as fallback when running on GPU\n",
            "Model: \"sequential\"\n",
            "_________________________________________________________________\n",
            "Layer (type)                 Output Shape              Param #   \n",
            "=================================================================\n",
            "embedding (Embedding)        (None, 50, 300)           3915300   \n",
            "_________________________________________________________________\n",
            "spatial_dropout1d (SpatialDr (None, 50, 300)           0         \n",
            "_________________________________________________________________\n",
            "bidirectional (Bidirectional (None, 600)               1442400   \n",
            "_________________________________________________________________\n",
            "dense (Dense)                (None, 1)                 601       \n",
            "=================================================================\n",
            "Total params: 5,358,301\n",
            "Trainable params: 5,358,301\n",
            "Non-trainable params: 0\n",
            "_________________________________________________________________\n"
          ],
          "name": "stdout"
        }
      ]
    },
    {
      "cell_type": "code",
      "metadata": {
        "colab": {
          "base_uri": "https://localhost:8080/"
        },
        "id": "nUDQAYpjh1MP",
        "outputId": "141281d9-8d78-4510-fffb-7eac747da634"
      },
      "source": [
        "history = model_1.fit( train_pad , y_train , batch_size=25 , epochs=100,\n",
        "                    validation_data=(test_pad , y_test),verbose=1,callbacks=[es],\n",
        "                    )"
      ],
      "execution_count": 25,
      "outputs": [
        {
          "output_type": "stream",
          "text": [
            "Epoch 1/100\n",
            "360/360 [==============================] - 75s 193ms/step - loss: 0.3331 - binary_accuracy: 0.8402 - val_loss: 0.1490 - val_binary_accuracy: 0.9470\n",
            "Epoch 2/100\n",
            "360/360 [==============================] - 69s 192ms/step - loss: 0.1000 - binary_accuracy: 0.9643 - val_loss: 0.1517 - val_binary_accuracy: 0.9400\n",
            "Epoch 3/100\n",
            "360/360 [==============================] - 70s 194ms/step - loss: 0.0607 - binary_accuracy: 0.9783 - val_loss: 0.1904 - val_binary_accuracy: 0.9380\n",
            "Epoch 4/100\n",
            "360/360 [==============================] - 69s 191ms/step - loss: 0.0323 - binary_accuracy: 0.9875 - val_loss: 0.2392 - val_binary_accuracy: 0.9360\n",
            "Epoch 00004: early stopping\n"
          ],
          "name": "stdout"
        }
      ]
    },
    {
      "cell_type": "code",
      "metadata": {
        "id": "1aY7EfyxkrdP",
        "colab": {
          "base_uri": "https://localhost:8080/"
        },
        "outputId": "4ce0d7de-daf1-4c57-9da1-a4c22ee045a4"
      },
      "source": [
        "# evaluate the model\n",
        "t = time()\n",
        "loss, acc = model_1.evaluate(train_pad, y_train, verbose=0)\n",
        "print(\"Train Accuracy: {} and loss {}\".format(np.round((acc*100),2) , np.round(loss,2)))\n",
        "print()\n",
        "loss, acc = model_1.evaluate(test_pad, y_test, verbose=0)\n",
        "print(\"Test Accuracy: {} and loss {}\".format(np.round((acc*100),2) , np.round(loss,2)))\n",
        "print(\" Time spent : {}\".format(np.round((time()-t))))"
      ],
      "execution_count": 27,
      "outputs": [
        {
          "output_type": "stream",
          "text": [
            "Train Accuracy: 99.63 and loss 0.01\n",
            "\n",
            "Test Accuracy: 93.6 and loss 0.24\n",
            " Time spent : 9.0\n"
          ],
          "name": "stdout"
        }
      ]
    },
    {
      "cell_type": "code",
      "metadata": {
        "colab": {
          "base_uri": "https://localhost:8080/"
        },
        "id": "5QHnKpo7wf9o",
        "outputId": "c9dfab50-35fa-4169-904e-98ff735c2012"
      },
      "source": [
        "# Confusion matrix\n",
        "y_pred = model_1.predict(train_pad)\n",
        "y_pred = (y_pred > 0.5)\n",
        "from sklearn.metrics import confusion_matrix\n",
        "cm = confusion_matrix(y_train , y_pred)\n",
        "cm"
      ],
      "execution_count": 29,
      "outputs": [
        {
          "output_type": "execute_result",
          "data": {
            "text/plain": [
              "array([[4491,   17],\n",
              "       [  16, 4476]])"
            ]
          },
          "metadata": {
            "tags": []
          },
          "execution_count": 29
        }
      ]
    },
    {
      "cell_type": "code",
      "metadata": {
        "colab": {
          "base_uri": "https://localhost:8080/"
        },
        "id": "BVAtJ76Ax-ZA",
        "outputId": "f203fb0f-49b5-438a-945f-f7c4f0ed4eba"
      },
      "source": [
        "y_train.value_counts()"
      ],
      "execution_count": 31,
      "outputs": [
        {
          "output_type": "execute_result",
          "data": {
            "text/plain": [
              "0    4508\n",
              "1    4492\n",
              "Name: label, dtype: int64"
            ]
          },
          "metadata": {
            "tags": []
          },
          "execution_count": 31
        }
      ]
    },
    {
      "cell_type": "code",
      "metadata": {
        "id": "P-TTtbzywfyr"
      },
      "source": [
        "import matplotlib.pyplot as plt\n",
        "names = ['Original' , 'fake']\n",
        "def plot_confusion_matrix(cm, classes,\n",
        "                          title='Confusion Matrix',\n",
        "                          cmap=plt.cm.Greens):\n",
        "   \n",
        "    import itertools\n",
        "    \n",
        "    print('Confusion Matrix')\n",
        "    plt.imshow(cm, interpolation='nearest', cmap=cmap)\n",
        "    plt.title(title , size = 20)\n",
        "    tick_marks = np.arange(len(classes))\n",
        "    plt.xticks(tick_marks, classes, rotation=90 , size = 14)\n",
        "    plt.yticks(tick_marks, classes , size = 14)\n",
        "    #fmt = '.d' \n",
        "    thresh = cm.max() / 2.\n",
        "    for i, j in itertools.product(range(cm.shape[0]), range(cm.shape[1])):\n",
        "        plt.text(j, i, format(cm[i, j]),\n",
        "                 horizontalalignment=\"center\",\n",
        "                 color=\"white\" if cm[i, j] > thresh else \"black\")\n",
        "    plt.ylabel('Actual label' , size = 16)\n",
        "    plt.xlabel('Predicted label' , size = 16)\n",
        "    plt.tight_layout()\n",
        "    print(tick_marks)"
      ],
      "execution_count": 47,
      "outputs": []
    },
    {
      "cell_type": "code",
      "metadata": {
        "colab": {
          "base_uri": "https://localhost:8080/",
          "height": 907
        },
        "id": "2m3Lpwwgwfov",
        "outputId": "836a4c9a-9de9-4b33-8540-782444fa291c"
      },
      "source": [
        "plt.figure(figsize = (14,12))\n",
        "plot_confusion_matrix(cm, classes=names,\n",
        "                      title='Fake news classification matrix ')"
      ],
      "execution_count": 48,
      "outputs": [
        {
          "output_type": "stream",
          "text": [
            "Confusion Matrix\n",
            "[0 1]\n"
          ],
          "name": "stdout"
        },
        {
          "output_type": "display_data",
          "data": {
            "image/png": "[encoded data removed]",
            "text/plain": [
              "<Figure size 1008x864 with 1 Axes>"
            ]
          },
          "metadata": {
            "tags": [],
            "needs_background": "light"
          }
        }
      ]
    },
    {
      "cell_type": "code",
      "metadata": {
        "id": "4vztfmZSwfXp"
      },
      "source": [
        "from sklearn.metrics import roc_curve , roc_auc_score"
      ],
      "execution_count": 49,
      "outputs": []
    },
    {
      "cell_type": "code",
      "metadata": {
        "colab": {
          "base_uri": "https://localhost:8080/"
        },
        "collapsed": true,
        "id": "jsEMtIFawe9k",
        "outputId": "8573353b-091c-4af4-e760-3f8f43887d94"
      },
      "source": [
        "y_pred = model_1.predict_proba(test_pad)\n",
        "\n",
        "fpr , tpr , threshold = roc_curve(y_test , y_pred)\n",
        "#print(fpr)\n",
        "#print(tpr)\n",
        "print(threshold)"
      ],
      "execution_count": 52,
      "outputs": [
        {
          "output_type": "stream",
          "text": [
            "/usr/local/lib/python3.7/dist-packages/tensorflow/python/keras/engine/sequential.py:425: UserWarning: `model.predict_proba()` is deprecated and will be removed after 2021-01-01. Please use `model.predict()` instead.\n",
            "  warnings.warn('`model.predict_proba()` is deprecated and '\n"
          ],
          "name": "stderr"
        },
        {
          "output_type": "stream",
          "text": [
            "[1.9999868e+00 9.9998677e-01 9.9982113e-01 9.9981886e-01 9.9978274e-01\n",
            " 9.9977392e-01 9.9963164e-01 9.9962711e-01 9.9959725e-01 9.9959403e-01\n",
            " 9.9926013e-01 9.9924976e-01 9.9863487e-01 9.9861789e-01 9.9799466e-01\n",
            " 9.9791425e-01 9.9687684e-01 9.9686676e-01 9.9657166e-01 9.9656481e-01\n",
            " 9.9653757e-01 9.9614173e-01 9.9612516e-01 9.9553728e-01 9.9552864e-01\n",
            " 9.9539798e-01 9.9532866e-01 9.9525321e-01 9.9521434e-01 9.9498498e-01\n",
            " 9.9481636e-01 9.9443662e-01 9.9440306e-01 9.9225777e-01 9.9204773e-01\n",
            " 9.9001992e-01 9.8971188e-01 9.8735553e-01 9.8681980e-01 9.8612726e-01\n",
            " 9.8601413e-01 9.8587739e-01 9.8585331e-01 9.7900784e-01 9.7849905e-01\n",
            " 9.7335148e-01 9.7331065e-01 9.7155344e-01 9.7139490e-01 9.6920657e-01\n",
            " 9.6909583e-01 9.3814903e-01 9.3808508e-01 9.2917883e-01 9.2707831e-01\n",
            " 9.2639923e-01 9.2476583e-01 9.2295402e-01 9.2288911e-01 9.1970688e-01\n",
            " 9.1931289e-01 9.1356373e-01 9.0932375e-01 9.0419883e-01 9.0336740e-01\n",
            " 8.9093566e-01 8.8588858e-01 8.1773680e-01 8.1054544e-01 8.0725700e-01\n",
            " 8.0003977e-01 7.5973529e-01 7.2616053e-01 6.5703142e-01 6.1070102e-01\n",
            " 5.9332514e-01 5.7873917e-01 5.6692606e-01 5.4976207e-01 4.5463502e-01\n",
            " 4.4639650e-01 4.2898703e-01 3.8130552e-01 2.7116585e-01 2.6867539e-01\n",
            " 1.8299450e-01 1.7560799e-01 1.2570436e-01 1.0308726e-01 9.9114746e-02\n",
            " 7.9835206e-02 6.8522543e-02 4.9925786e-02 4.5240447e-02 4.0574510e-02\n",
            " 4.0049281e-02 1.9440467e-02 1.3167037e-02 7.4074934e-03 6.0839863e-03\n",
            " 3.7895758e-03 3.7885676e-03 3.1624237e-04 2.7984226e-04 1.7459910e-04\n",
            " 1.6334427e-04 1.5077027e-04 1.4507346e-04 9.2544942e-05 8.1950340e-05\n",
            " 7.5359922e-06 7.1959585e-06 6.8046415e-07 6.6514571e-07 3.7871379e-07\n",
            " 3.6072697e-07 7.0488620e-10]\n"
          ],
          "name": "stdout"
        }
      ]
    },
    {
      "cell_type": "code",
      "metadata": {
        "id": "xWdaps__0PSE"
      },
      "source": [
        "def plot_roc_auc(fpr , tpr , dddd):\n",
        "    plt.figure(figsize = (23,9))\n",
        "    plt.plot(fpr , tpr , c = 'orange' , label = dddd)\n",
        "    plt.plot([0,1] , [0,1] , c = 'b' , linestyle = '--')\n",
        "    plt.xlabel('False positive' , size = 16)\n",
        "    plt.ylabel('True postive' , size = 16)\n",
        "    plt.title('ROC Curve of News classification' , size = 20)\n",
        "    plt.legend()\n",
        "    \n",
        "    plt.show()"
      ],
      "execution_count": 73,
      "outputs": []
    },
    {
      "cell_type": "code",
      "metadata": {
        "colab": {
          "base_uri": "https://localhost:8080/",
          "height": 594
        },
        "id": "gr29fyYK0j7w",
        "outputId": "b54f9975-2af6-4346-b696-6cf9bcfc3cdd"
      },
      "source": [
        "import matplotlib.pyplot as plt\n",
        "from sklearn import metrics\n",
        "auc_curve = metrics.auc(fpr , tpr)\n",
        "print(auc_curve)\n",
        "plot_roc_auc(fpr , tpr , auc_curve)\n",
        "    "
      ],
      "execution_count": 74,
      "outputs": [
        {
          "output_type": "stream",
          "text": [
            "0.9795747711414122\n"
          ],
          "name": "stdout"
        },
        {
          "output_type": "display_data",
          "data": {
            "image/png": "[encoded data removed]",
            "text/plain": [
              "<Figure size 1656x648 with 1 Axes>"
            ]
          },
          "metadata": {
            "tags": [],
            "needs_background": "light"
          }
        }
      ]
    },
    {
      "cell_type": "code",
      "metadata": {
        "id": "EH4-Mthd0nh4"
      },
      "source": [
        ""
      ],
      "execution_count": null,
      "outputs": []
    }
  ]
}